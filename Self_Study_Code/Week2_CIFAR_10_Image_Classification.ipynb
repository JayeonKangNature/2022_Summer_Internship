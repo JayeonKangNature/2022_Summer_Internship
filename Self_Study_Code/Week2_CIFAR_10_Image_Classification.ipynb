{
  "nbformat": 4,
  "nbformat_minor": 0,
  "metadata": {
    "colab": {
      "provenance": [],
      "collapsed_sections": [
        "G-SFNpk7O90f",
        "UkJ_Y0iJUR45"
      ],
      "authorship_tag": "ABX9TyPlEnxy/4pQ/M9T0S58zMpD",
      "include_colab_link": true
    },
    "kernelspec": {
      "name": "python3",
      "display_name": "Python 3"
    },
    "language_info": {
      "name": "python"
    },
    "widgets": {
      "application/vnd.jupyter.widget-state+json": {
        "6acb573cb6cc426597bb5754dae778ae": {
          "model_module": "@jupyter-widgets/controls",
          "model_name": "HBoxModel",
          "model_module_version": "1.5.0",
          "state": {
            "_dom_classes": [],
            "_model_module": "@jupyter-widgets/controls",
            "_model_module_version": "1.5.0",
            "_model_name": "HBoxModel",
            "_view_count": null,
            "_view_module": "@jupyter-widgets/controls",
            "_view_module_version": "1.5.0",
            "_view_name": "HBoxView",
            "box_style": "",
            "children": [
              "IPY_MODEL_9fdca0840d1a46d287e62af3e6fb0ff5",
              "IPY_MODEL_c9e625c2b3a9429995d52a6153d670ae",
              "IPY_MODEL_e38a449f65e54e5397680e0e7fa04ea5"
            ],
            "layout": "IPY_MODEL_4996cf1239d740519f6c3b7de8f422b7"
          }
        },
        "9fdca0840d1a46d287e62af3e6fb0ff5": {
          "model_module": "@jupyter-widgets/controls",
          "model_name": "HTMLModel",
          "model_module_version": "1.5.0",
          "state": {
            "_dom_classes": [],
            "_model_module": "@jupyter-widgets/controls",
            "_model_module_version": "1.5.0",
            "_model_name": "HTMLModel",
            "_view_count": null,
            "_view_module": "@jupyter-widgets/controls",
            "_view_module_version": "1.5.0",
            "_view_name": "HTMLView",
            "description": "",
            "description_tooltip": null,
            "layout": "IPY_MODEL_8db27176df694ae8ac26f33707c1075f",
            "placeholder": "​",
            "style": "IPY_MODEL_7b669ba706634a86aaba5c5697a6be2e",
            "value": "100%"
          }
        },
        "c9e625c2b3a9429995d52a6153d670ae": {
          "model_module": "@jupyter-widgets/controls",
          "model_name": "FloatProgressModel",
          "model_module_version": "1.5.0",
          "state": {
            "_dom_classes": [],
            "_model_module": "@jupyter-widgets/controls",
            "_model_module_version": "1.5.0",
            "_model_name": "FloatProgressModel",
            "_view_count": null,
            "_view_module": "@jupyter-widgets/controls",
            "_view_module_version": "1.5.0",
            "_view_name": "ProgressView",
            "bar_style": "success",
            "description": "",
            "description_tooltip": null,
            "layout": "IPY_MODEL_62a6ad9225944cc0b6e6efe9a3b07639",
            "max": 170498071,
            "min": 0,
            "orientation": "horizontal",
            "style": "IPY_MODEL_7ad61c742b9247b39411c418ba30c73f",
            "value": 170498071
          }
        },
        "e38a449f65e54e5397680e0e7fa04ea5": {
          "model_module": "@jupyter-widgets/controls",
          "model_name": "HTMLModel",
          "model_module_version": "1.5.0",
          "state": {
            "_dom_classes": [],
            "_model_module": "@jupyter-widgets/controls",
            "_model_module_version": "1.5.0",
            "_model_name": "HTMLModel",
            "_view_count": null,
            "_view_module": "@jupyter-widgets/controls",
            "_view_module_version": "1.5.0",
            "_view_name": "HTMLView",
            "description": "",
            "description_tooltip": null,
            "layout": "IPY_MODEL_3acd20fdeb37499894a6cd35fb3b689f",
            "placeholder": "​",
            "style": "IPY_MODEL_09e467ede88b43c9a54c86afa43c471f",
            "value": " 170498071/170498071 [00:02&lt;00:00, 98347171.45it/s]"
          }
        },
        "4996cf1239d740519f6c3b7de8f422b7": {
          "model_module": "@jupyter-widgets/base",
          "model_name": "LayoutModel",
          "model_module_version": "1.2.0",
          "state": {
            "_model_module": "@jupyter-widgets/base",
            "_model_module_version": "1.2.0",
            "_model_name": "LayoutModel",
            "_view_count": null,
            "_view_module": "@jupyter-widgets/base",
            "_view_module_version": "1.2.0",
            "_view_name": "LayoutView",
            "align_content": null,
            "align_items": null,
            "align_self": null,
            "border": null,
            "bottom": null,
            "display": null,
            "flex": null,
            "flex_flow": null,
            "grid_area": null,
            "grid_auto_columns": null,
            "grid_auto_flow": null,
            "grid_auto_rows": null,
            "grid_column": null,
            "grid_gap": null,
            "grid_row": null,
            "grid_template_areas": null,
            "grid_template_columns": null,
            "grid_template_rows": null,
            "height": null,
            "justify_content": null,
            "justify_items": null,
            "left": null,
            "margin": null,
            "max_height": null,
            "max_width": null,
            "min_height": null,
            "min_width": null,
            "object_fit": null,
            "object_position": null,
            "order": null,
            "overflow": null,
            "overflow_x": null,
            "overflow_y": null,
            "padding": null,
            "right": null,
            "top": null,
            "visibility": null,
            "width": null
          }
        },
        "8db27176df694ae8ac26f33707c1075f": {
          "model_module": "@jupyter-widgets/base",
          "model_name": "LayoutModel",
          "model_module_version": "1.2.0",
          "state": {
            "_model_module": "@jupyter-widgets/base",
            "_model_module_version": "1.2.0",
            "_model_name": "LayoutModel",
            "_view_count": null,
            "_view_module": "@jupyter-widgets/base",
            "_view_module_version": "1.2.0",
            "_view_name": "LayoutView",
            "align_content": null,
            "align_items": null,
            "align_self": null,
            "border": null,
            "bottom": null,
            "display": null,
            "flex": null,
            "flex_flow": null,
            "grid_area": null,
            "grid_auto_columns": null,
            "grid_auto_flow": null,
            "grid_auto_rows": null,
            "grid_column": null,
            "grid_gap": null,
            "grid_row": null,
            "grid_template_areas": null,
            "grid_template_columns": null,
            "grid_template_rows": null,
            "height": null,
            "justify_content": null,
            "justify_items": null,
            "left": null,
            "margin": null,
            "max_height": null,
            "max_width": null,
            "min_height": null,
            "min_width": null,
            "object_fit": null,
            "object_position": null,
            "order": null,
            "overflow": null,
            "overflow_x": null,
            "overflow_y": null,
            "padding": null,
            "right": null,
            "top": null,
            "visibility": null,
            "width": null
          }
        },
        "7b669ba706634a86aaba5c5697a6be2e": {
          "model_module": "@jupyter-widgets/controls",
          "model_name": "DescriptionStyleModel",
          "model_module_version": "1.5.0",
          "state": {
            "_model_module": "@jupyter-widgets/controls",
            "_model_module_version": "1.5.0",
            "_model_name": "DescriptionStyleModel",
            "_view_count": null,
            "_view_module": "@jupyter-widgets/base",
            "_view_module_version": "1.2.0",
            "_view_name": "StyleView",
            "description_width": ""
          }
        },
        "62a6ad9225944cc0b6e6efe9a3b07639": {
          "model_module": "@jupyter-widgets/base",
          "model_name": "LayoutModel",
          "model_module_version": "1.2.0",
          "state": {
            "_model_module": "@jupyter-widgets/base",
            "_model_module_version": "1.2.0",
            "_model_name": "LayoutModel",
            "_view_count": null,
            "_view_module": "@jupyter-widgets/base",
            "_view_module_version": "1.2.0",
            "_view_name": "LayoutView",
            "align_content": null,
            "align_items": null,
            "align_self": null,
            "border": null,
            "bottom": null,
            "display": null,
            "flex": null,
            "flex_flow": null,
            "grid_area": null,
            "grid_auto_columns": null,
            "grid_auto_flow": null,
            "grid_auto_rows": null,
            "grid_column": null,
            "grid_gap": null,
            "grid_row": null,
            "grid_template_areas": null,
            "grid_template_columns": null,
            "grid_template_rows": null,
            "height": null,
            "justify_content": null,
            "justify_items": null,
            "left": null,
            "margin": null,
            "max_height": null,
            "max_width": null,
            "min_height": null,
            "min_width": null,
            "object_fit": null,
            "object_position": null,
            "order": null,
            "overflow": null,
            "overflow_x": null,
            "overflow_y": null,
            "padding": null,
            "right": null,
            "top": null,
            "visibility": null,
            "width": null
          }
        },
        "7ad61c742b9247b39411c418ba30c73f": {
          "model_module": "@jupyter-widgets/controls",
          "model_name": "ProgressStyleModel",
          "model_module_version": "1.5.0",
          "state": {
            "_model_module": "@jupyter-widgets/controls",
            "_model_module_version": "1.5.0",
            "_model_name": "ProgressStyleModel",
            "_view_count": null,
            "_view_module": "@jupyter-widgets/base",
            "_view_module_version": "1.2.0",
            "_view_name": "StyleView",
            "bar_color": null,
            "description_width": ""
          }
        },
        "3acd20fdeb37499894a6cd35fb3b689f": {
          "model_module": "@jupyter-widgets/base",
          "model_name": "LayoutModel",
          "model_module_version": "1.2.0",
          "state": {
            "_model_module": "@jupyter-widgets/base",
            "_model_module_version": "1.2.0",
            "_model_name": "LayoutModel",
            "_view_count": null,
            "_view_module": "@jupyter-widgets/base",
            "_view_module_version": "1.2.0",
            "_view_name": "LayoutView",
            "align_content": null,
            "align_items": null,
            "align_self": null,
            "border": null,
            "bottom": null,
            "display": null,
            "flex": null,
            "flex_flow": null,
            "grid_area": null,
            "grid_auto_columns": null,
            "grid_auto_flow": null,
            "grid_auto_rows": null,
            "grid_column": null,
            "grid_gap": null,
            "grid_row": null,
            "grid_template_areas": null,
            "grid_template_columns": null,
            "grid_template_rows": null,
            "height": null,
            "justify_content": null,
            "justify_items": null,
            "left": null,
            "margin": null,
            "max_height": null,
            "max_width": null,
            "min_height": null,
            "min_width": null,
            "object_fit": null,
            "object_position": null,
            "order": null,
            "overflow": null,
            "overflow_x": null,
            "overflow_y": null,
            "padding": null,
            "right": null,
            "top": null,
            "visibility": null,
            "width": null
          }
        },
        "09e467ede88b43c9a54c86afa43c471f": {
          "model_module": "@jupyter-widgets/controls",
          "model_name": "DescriptionStyleModel",
          "model_module_version": "1.5.0",
          "state": {
            "_model_module": "@jupyter-widgets/controls",
            "_model_module_version": "1.5.0",
            "_model_name": "DescriptionStyleModel",
            "_view_count": null,
            "_view_module": "@jupyter-widgets/base",
            "_view_module_version": "1.2.0",
            "_view_name": "StyleView",
            "description_width": ""
          }
        }
      }
    }
  },
  "cells": [
    {
      "cell_type": "markdown",
      "metadata": {
        "id": "view-in-github",
        "colab_type": "text"
      },
      "source": [
        "<a href=\"https://colab.research.google.com/github/JayeonKangNature/2022_Summer_Internship/blob/main/Self_Study_Code/Week2_CIFAR_10_Image_Classification.ipynb\" target=\"_parent\"><img src=\"https://colab.research.google.com/assets/colab-badge.svg\" alt=\"Open In Colab\"/></a>"
      ]
    },
    {
      "cell_type": "markdown",
      "source": [
        "**<font size=6>Task 1: CIFAR-10 Image Classification**<br>\n",
        "<font size = 4>Jayeon Kang\n",
        "\n",
        "\n",
        "---\n",
        "\n"
      ],
      "metadata": {
        "id": "dSaNE3xxgIyN"
      }
    },
    {
      "cell_type": "markdown",
      "source": [
        "##I.\tRead the code/comments carefully. Describe any part of the code or comments that you don't understand, or that you are curious and what to understand better.\n",
        "\n",
        "\n"
      ],
      "metadata": {
        "id": "c_Br7is8gUow"
      }
    },
    {
      "cell_type": "markdown",
      "source": [
        "### 0. Introduction"
      ],
      "metadata": {
        "id": "G-SFNpk7O90f"
      }
    },
    {
      "cell_type": "markdown",
      "source": [
        "**Torchvision**<br>\n",
        "Torchvision has two subpackages\n",
        "  - Common datasets<br>\n",
        "    like ImageNT, CIFAR10, MNIST, ...\n",
        "  - Data transformers<br>\n",
        "    for torchvision.datasets and torch.utills.daata.DataLoader\n",
        "\n",
        "**CIFAR-10<br>**\n",
        "CIFAR-10\n",
        "- Built-in dataset<br>\n",
        "\n",
        "Element of CIFAR-10\n",
        "- Images with 3x32x32: 32x32 pixels and 3-channel color images. (number of channels x hight x base)\n",
        "- 10 classes of objuets: 6 of animals (bird, cat, deer, dog, frog, horse) and 4 of vechicles (airplane, automobile, ship, truck)\n",
        "\n",
        "**Steps for classification**<br>\n",
        "1. Loading and normalize datasets (train and validation/test) by 'torchvision' = Preprocessing datasets\n",
        "2. Create CNN\n",
        "3. Create loss funcion\n",
        "4. Train NetWork through training set\n",
        "5. Valid/Test Network through test/validation set"
      ],
      "metadata": {
        "id": "o9-l3FZqhR7G"
      }
    },
    {
      "cell_type": "markdown",
      "source": [
        "### 1. Load and normalize CIFAR10"
      ],
      "metadata": {
        "id": "2nX-XoS6lzpy"
      }
    },
    {
      "cell_type": "markdown",
      "source": [
        "<font size= 4>\n",
        "1) Create environment"
      ],
      "metadata": {
        "id": "92U2HXi9myWf"
      }
    },
    {
      "cell_type": "code",
      "source": [
        "import torch\n",
        "import torchvision\n",
        "# take out torch and torchvision\n",
        "import torchvision.transforms as transforms\n",
        "# transforms moules in torchvision is defined transforms for now"
      ],
      "metadata": {
        "id": "UyQue4D4gqC9"
      },
      "execution_count": null,
      "outputs": []
    },
    {
      "cell_type": "markdown",
      "source": [
        "<font size= 4>\n",
        "2) Normalize images: to deal with the images,"
      ],
      "metadata": {
        "id": "FEOgKNTKm5eQ"
      }
    },
    {
      "cell_type": "code",
      "source": [
        "transform = transforms.Compose(\n",
        "    (transforms.ToTensor(), # convert tensor type\n",
        "     transforms.Normalize((0.5,0.5,0.5),(0.5,0.5,0.5))))"
      ],
      "metadata": {
        "id": "oZV0rWcpncG-"
      },
      "execution_count": null,
      "outputs": []
    },
    {
      "cell_type": "markdown",
      "source": [
        "* **transforms.ToTensor()**<br>\n",
        " + *Function*: Convert images loaded by Pillow into PyTorch tensors.<br>\n",
        " + *Pillow image (PIL)*: PIL is the Python Imaging Library which provides the python interpreter with image editing capabilities. The Image module provides a class with the same name which is used to represent a PIL image.<br>\n",
        "\n",
        "* **transforms.Normalize()**<br>\n",
        " + *Function*: Manupulate the values in our tensors so that their average is 0 and their standard deviation is 0.5.</span><br>\n",
        "Most activation functions have their strongest gradients around x = 0, so centering our data there can speed learning.\n",
        " + *Syntax*: transforms.Normalize(mean, std, inplace=False)\n",
        " + *More explanation*: Normalization is process to normalize mean and standard deviation set from each channels. For example, as input (m1, m2, m3) and (s1, s2, s3), image for each channels is normalized into below formula:<br><br>\n",
        "$$output[channel] = (input[channel]−m[channel])÷s[channel]​$$\n",
        "\n",
        "* **transforms.Compose()**\n",
        "  + *Function*: it will compose several transforms together. That is, it can chain (= together) transformaiton functions.\n",
        "  + *Syntax*: transforms.Compose (transforms)\n",
        "  + In this case, converting tensor type and normalizing are used as transform.<br> So, two things are proceessed in Compose method\n",
        "  \n"
      ],
      "metadata": {
        "id": "e7gW0hYpnrHx"
      }
    },
    {
      "cell_type": "markdown",
      "source": [
        "<font size= 4>\n",
        "3) Download data from torchvision"
      ],
      "metadata": {
        "id": "DCv91jXEu4SD"
      }
    },
    {
      "cell_type": "code",
      "source": [
        "trainset = torchvision.datasets.CIFAR10(root='./data', train=True, download=True, transform=transform)\n",
        "testset = torchvision.datasets.CIFAR10(root='./data', train=False, download=True, transform=transform)"
      ],
      "metadata": {
        "colab": {
          "base_uri": "https://localhost:8080/",
          "height": 146,
          "referenced_widgets": [
            "6acb573cb6cc426597bb5754dae778ae",
            "9fdca0840d1a46d287e62af3e6fb0ff5",
            "c9e625c2b3a9429995d52a6153d670ae",
            "e38a449f65e54e5397680e0e7fa04ea5",
            "4996cf1239d740519f6c3b7de8f422b7",
            "8db27176df694ae8ac26f33707c1075f",
            "7b669ba706634a86aaba5c5697a6be2e",
            "62a6ad9225944cc0b6e6efe9a3b07639",
            "7ad61c742b9247b39411c418ba30c73f",
            "3acd20fdeb37499894a6cd35fb3b689f",
            "09e467ede88b43c9a54c86afa43c471f"
          ]
        },
        "id": "A3FubtCyu8-b",
        "outputId": "7d44865e-32bf-49e6-aa71-0c39e2bcbaac"
      },
      "execution_count": null,
      "outputs": [
        {
          "output_type": "stream",
          "name": "stdout",
          "text": [
            "Downloading https://www.cs.toronto.edu/~kriz/cifar-10-python.tar.gz to ./data/cifar-10-python.tar.gz\n"
          ]
        },
        {
          "output_type": "display_data",
          "data": {
            "text/plain": [
              "  0%|          | 0/170498071 [00:00<?, ?it/s]"
            ],
            "application/vnd.jupyter.widget-view+json": {
              "version_major": 2,
              "version_minor": 0,
              "model_id": "6acb573cb6cc426597bb5754dae778ae"
            }
          },
          "metadata": {}
        },
        {
          "output_type": "stream",
          "name": "stdout",
          "text": [
            "Extracting ./data/cifar-10-python.tar.gz to ./data\n",
            "Files already downloaded and verified\n"
          ]
        }
      ]
    },
    {
      "cell_type": "markdown",
      "source": [
        "**Mean of parameters**\n",
        "* root: location to download data\n",
        "* tain: as reciving bool value,\n",
        "  + True = downlad **train** data set\n",
        "  + False = downlad **test** data set\n",
        "* download: as reciving bool value,\n",
        "  + True = **through internet** download data\n",
        "  (if already download data though download is True, pass without download)\n",
        "* transform: Preprocessing PIL Image based on setting transform format previously\n",
        "\n",
        "**Considerations to initiate our dataset**\n",
        "* Desired Path for the filesystem that we want\n",
        "* Determinant for spliting our dataset into training and test/validation subsets\n",
        "* Whether we would like to download the dataset if we haven't already."
      ],
      "metadata": {
        "id": "CeqyDrZ9va_N"
      }
    },
    {
      "cell_type": "markdown",
      "source": [
        "<font size= 4>\n",
        "4) Create Data_loader to utilize data"
      ],
      "metadata": {
        "id": "tfcxc8GwBCdy"
      }
    },
    {
      "cell_type": "code",
      "source": [
        "trainloader = torch.utils.data.DataLoader(dataset=trainset, batch_size=4,shuffle=True,num_workers=2)\n",
        "testloader = torch.utils.data.DataLoader(dataset=testset, batch_size=4,shuffle=False,num_workers=2)"
      ],
      "metadata": {
        "id": "2uOqi_y5BA3K"
      },
      "execution_count": null,
      "outputs": []
    },
    {
      "cell_type": "code",
      "source": [
        "print(iter(testloader))"
      ],
      "metadata": {
        "colab": {
          "base_uri": "https://localhost:8080/"
        },
        "id": "tSXNvCZDTwTO",
        "outputId": "b7e08588-880c-4982-ed1b-333a68d4cfe2"
      },
      "execution_count": null,
      "outputs": [
        {
          "output_type": "stream",
          "name": "stdout",
          "text": [
            "<torch.utils.data.dataloader._MultiProcessingDataLoaderIter object at 0x7f70ad48c1d0>\n"
          ]
        }
      ]
    },
    {
      "cell_type": "markdown",
      "source": [
        "**DataLoader**\n",
        "* Function: To deal with dataset, return iterable form as joining data set and sampler as if the function makes data set able for using 'for' loop.\n",
        "\n",
        "**Parameters**\n",
        "* dataset: data set gotten from torchvision and used for our trainning/ testting/ validating\n",
        "* batch_size: how much data you'll pull out once one time of sampling\n",
        "* shuffle: whether does shuffle (= mix) datasets for each epoch or not\n",
        "* num_workers: To load data, how many subprocesses are used. Simply, it is the number of thread\n",
        " + Thread: an entity within a process that can be scheduled for execution\n",
        "\n",
        "​\n",
        "**Our case**\n",
        "* batch_size = 4: give us batches of 4 images from trainset.\n",
        "* shuffle = True: give randomizing our order.\n",
        "* num_wrkers = 2: spin up two workers to load data from disk.<br>\n",
        "num_workers denotes the number of processes that generate batches in parallel.\n"
      ],
      "metadata": {
        "id": "Khga4ifuB7hj"
      }
    },
    {
      "cell_type": "code",
      "source": [
        "i = 1\n",
        "for data in trainloader:\n",
        "    images, labels = data\n",
        "    print(f'set {i} train images labels: {labels.tolist()}')\n",
        "    print(f'image size: {images.size()}')\n",
        "    print(f'label size: {labels.size()}')\n",
        "    i += 1\n",
        "    if i == 4:\n",
        "      break"
      ],
      "metadata": {
        "colab": {
          "base_uri": "https://localhost:8080/"
        },
        "id": "PEAPM6xUIyR2",
        "outputId": "179392fc-1225-4cbf-aaff-e738764e4e5a"
      },
      "execution_count": null,
      "outputs": [
        {
          "output_type": "stream",
          "name": "stdout",
          "text": [
            "set 1 train images labels: [7, 3, 4, 3]\n",
            "image size: torch.Size([4, 3, 32, 32])\n",
            "label size: torch.Size([4])\n",
            "set 2 train images labels: [8, 0, 9, 3]\n",
            "image size: torch.Size([4, 3, 32, 32])\n",
            "label size: torch.Size([4])\n",
            "set 3 train images labels: [4, 5, 1, 5]\n",
            "image size: torch.Size([4, 3, 32, 32])\n",
            "label size: torch.Size([4])\n"
          ]
        }
      ]
    },
    {
      "cell_type": "markdown",
      "source": [
        "**Composition of DataLoader**<br>\n",
        "Trainloader consist of two tings: image and label (as well as testloader)<br>\n",
        "As see above output of above code (as seeing three of train image),\n",
        "* Due to batch_size = 4, 4 images are selected and size of label is 4.\n",
        "* Due to shuffle = True, there are random selected image for each set.\n",
        "* Tensor of images is [4, 3, 32, 32]\n",
        "* Each objects' label is indicated as range from 0 to 9."
      ],
      "metadata": {
        "id": "REwXTRi1Jhm-"
      }
    },
    {
      "cell_type": "markdown",
      "source": [
        "<font size=4>\n",
        "5) Ploting"
      ],
      "metadata": {
        "id": "HMH2JCZEHzmQ"
      }
    },
    {
      "cell_type": "code",
      "source": [
        "classes = ('plane', 'car', 'bird', 'cat',\n",
        "           'deer', 'dog', 'frog', 'horse', 'ship', 'truck')"
      ],
      "metadata": {
        "id": "P6rtQSen_72B"
      },
      "execution_count": null,
      "outputs": []
    },
    {
      "cell_type": "code",
      "source": [
        "print(trainset.class_to_idx)"
      ],
      "metadata": {
        "colab": {
          "base_uri": "https://localhost:8080/"
        },
        "id": "Xe6n-kBMHi6p",
        "outputId": "d0e66aee-e4ab-4b82-8829-58d5bf41c3c3"
      },
      "execution_count": null,
      "outputs": [
        {
          "output_type": "stream",
          "name": "stdout",
          "text": [
            "{'airplane': 0, 'automobile': 1, 'bird': 2, 'cat': 3, 'deer': 4, 'dog': 5, 'frog': 6, 'horse': 7, 'ship': 8, 'truck': 9}\n"
          ]
        }
      ]
    },
    {
      "cell_type": "markdown",
      "source": [
        "0 = plane/ 1 = car/ 2 = bird/ 3 = cat/ 4 = deeer/ 5 = dog/ ...."
      ],
      "metadata": {
        "id": "xAWOGDVj_-6U"
      }
    },
    {
      "cell_type": "code",
      "source": [
        "import matplotlib.pyplot as plt\n",
        "import numpy as np\n",
        "\n",
        "# functions to show an image\n",
        "\n",
        "\n",
        "def imshow(img):\n",
        "    img = img * 0.5 + 0.5     # unnormalize\n",
        "    npimg = img.numpy()\n",
        "    plt.imshow(np.transpose(npimg, (1, 2, 0)))\n",
        "    plt.show()\n"
      ],
      "metadata": {
        "id": "1XofeUKjHxoN"
      },
      "execution_count": null,
      "outputs": []
    },
    {
      "cell_type": "code",
      "source": [
        "print(type(images))\n",
        "print(type(images.numpy()))"
      ],
      "metadata": {
        "colab": {
          "base_uri": "https://localhost:8080/"
        },
        "id": "GlFqqBUDCh7N",
        "outputId": "5c14d933-d6df-4edc-bc74-bae56e953395"
      },
      "execution_count": null,
      "outputs": [
        {
          "output_type": "stream",
          "name": "stdout",
          "text": [
            "<class 'torch.Tensor'>\n",
            "<class 'numpy.ndarray'>\n"
          ]
        }
      ]
    },
    {
      "cell_type": "markdown",
      "source": [
        "**Function of imshow(img)**<br>\n",
        "* img = img * 0.5 + 0.5\n",
        "  + Unnormalize image step. According to given above normalize formula, output is converted into input value.\n",
        "  $$output[channel] = (input[channel]−m[channel])÷s[channel]​$$ <br>\n",
        "   $$⇓$$ $$input[channel] = output[channel] * s[channel] + m[channel]$$\n",
        "* npimg = img.numpy()\n",
        "  + Convert images' data type from Tensor into Array.\n",
        "* plt.imshow(np.transpose(npimg, (1, 2, 0)))\n",
        "  + np.transpose(npimg, (1, 2, 0))\n",
        "    - *Sytax*: numpy.transpose(a, axes=None)\n",
        "    - *Parameter*: <br>\n",
        "      a: aarray_like<br>\n",
        "        => Input array\n",
        "       axes: axestuple or list of ints, optional<br>\n",
        "    => If specified, it must be a tuple or list which contains a permutation of [0,1,..,N-1] where N is the number of axes of a. The i’th axis of the returned array will correspond to the axis numbered axes[i] of the input. If not specified, defaults to range(a.ndim)[::-1], which reverses the order of the axes.\n",
        "    - *Return*: return ndarray that is reversed or permuted the axes of an array; returns the modified array. For an array a with two axes, transpose(a) gives the matrix transpose.\n",
        "  + plt.imshow(X)\n",
        "    - *Syntax*: https://www.geeksforgeeks.org/matplotlib-pyplot-imshow-in-python/\n",
        "    - *Return*: returns the AxesImage\n",
        "* plt.show()\n",
        "  - *Return*: return setting plot above plt.show() code\n",
        "* What does the function return?\n",
        "  + *Return*: Plot unnormalized image to graph\n"
      ],
      "metadata": {
        "id": "FD7RWB61Mt9L"
      }
    },
    {
      "cell_type": "code",
      "source": [
        "# get some random training images\n",
        "dataiter = iter(trainloader)\n",
        "images, labels = dataiter.next()"
      ],
      "metadata": {
        "id": "OKmG_bWOH2qN"
      },
      "execution_count": null,
      "outputs": []
    },
    {
      "cell_type": "markdown",
      "source": [
        "**Training image extraction**<br>\n",
        "To extract data from trainloader (in this case, take data by using .next() function), because trainloader (DataLoader) is not iterlater form, we have to change iterable type by using iter().\n",
        "\n",
        "After that, by using .next() function, bring elements from data sets in order."
      ],
      "metadata": {
        "id": "RX2pu408Ht4Y"
      }
    },
    {
      "cell_type": "code",
      "source": [
        "print(type(trainloader))\n",
        "print(type(dataiter))\n",
        "print(trainloader.next())\n",
        "print(dataiter.next())"
      ],
      "metadata": {
        "colab": {
          "base_uri": "https://localhost:8080/",
          "height": 245
        },
        "id": "6GeOpFf-JgfN",
        "outputId": "650abcdf-c2b8-434c-a51f-0cbea9b0a68b"
      },
      "execution_count": null,
      "outputs": [
        {
          "output_type": "stream",
          "name": "stdout",
          "text": [
            "<class 'torch.utils.data.dataloader.DataLoader'>\n",
            "<class 'torch.utils.data.dataloader._MultiProcessingDataLoaderIter'>\n"
          ]
        },
        {
          "output_type": "error",
          "ename": "AttributeError",
          "evalue": "ignored",
          "traceback": [
            "\u001b[0;31m---------------------------------------------------------------------------\u001b[0m",
            "\u001b[0;31mAttributeError\u001b[0m                            Traceback (most recent call last)",
            "\u001b[0;32m<ipython-input-9-d4653f573914>\u001b[0m in \u001b[0;36m<module>\u001b[0;34m()\u001b[0m\n\u001b[1;32m      1\u001b[0m \u001b[0mprint\u001b[0m\u001b[0;34m(\u001b[0m\u001b[0mtype\u001b[0m\u001b[0;34m(\u001b[0m\u001b[0mtrainloader\u001b[0m\u001b[0;34m)\u001b[0m\u001b[0;34m)\u001b[0m\u001b[0;34m\u001b[0m\u001b[0;34m\u001b[0m\u001b[0m\n\u001b[1;32m      2\u001b[0m \u001b[0mprint\u001b[0m\u001b[0;34m(\u001b[0m\u001b[0mtype\u001b[0m\u001b[0;34m(\u001b[0m\u001b[0mdataiter\u001b[0m\u001b[0;34m)\u001b[0m\u001b[0;34m)\u001b[0m\u001b[0;34m\u001b[0m\u001b[0;34m\u001b[0m\u001b[0m\n\u001b[0;32m----> 3\u001b[0;31m \u001b[0mprint\u001b[0m\u001b[0;34m(\u001b[0m\u001b[0mtrainloader\u001b[0m\u001b[0;34m.\u001b[0m\u001b[0mnext\u001b[0m\u001b[0;34m(\u001b[0m\u001b[0;34m)\u001b[0m\u001b[0;34m)\u001b[0m\u001b[0;34m\u001b[0m\u001b[0;34m\u001b[0m\u001b[0m\n\u001b[0m\u001b[1;32m      4\u001b[0m \u001b[0mprint\u001b[0m\u001b[0;34m(\u001b[0m\u001b[0mdataiter\u001b[0m\u001b[0;34m.\u001b[0m\u001b[0mnext\u001b[0m\u001b[0;34m(\u001b[0m\u001b[0;34m)\u001b[0m\u001b[0;34m)\u001b[0m\u001b[0;34m\u001b[0m\u001b[0;34m\u001b[0m\u001b[0m\n",
            "\u001b[0;31mAttributeError\u001b[0m: 'DataLoader' object has no attribute 'next'"
          ]
        }
      ]
    },
    {
      "cell_type": "markdown",
      "source": [
        "As seeing above result, DataLoader does not have attribute 'next' and there is another object to be able to use iterater.<br>\n"
      ],
      "metadata": {
        "id": "vOrQvqWLLaQi"
      }
    },
    {
      "cell_type": "code",
      "source": [
        "# show images\n",
        "imshow(torchvision.utils.make_grid(images))\n",
        "# print labels\n",
        "print(' '.join('%5s' % classes[labels[j]] for j in range(4)))"
      ],
      "metadata": {
        "id": "GSsl7fYOIPF-",
        "colab": {
          "base_uri": "https://localhost:8080/",
          "height": 155
        },
        "outputId": "cfeb6383-d449-4a94-a2de-3537c21639ca"
      },
      "execution_count": null,
      "outputs": [
        {
          "output_type": "display_data",
          "data": {
            "text/plain": [
              "<Figure size 432x288 with 1 Axes>"
            ],
            "image/png": "[encoded data removed]"
          },
          "metadata": {
            "needs_background": "light"
          }
        },
        {
          "output_type": "stream",
          "name": "stdout",
          "text": [
            "  dog plane   car  frog\n"
          ]
        }
      ]
    },
    {
      "cell_type": "markdown",
      "source": [
        "Shows results"
      ],
      "metadata": {
        "id": "tfOjcmVNIQRe"
      }
    },
    {
      "cell_type": "markdown",
      "source": [
        "### 2. Create Convolution Neural Network (CNN)"
      ],
      "metadata": {
        "id": "v85pcbSOM0sJ"
      }
    },
    {
      "cell_type": "markdown",
      "source": [
        "**Detail Information**<br>\n",
        "https://pytorch.org/tutorials/beginner/blitz/neural_networks_tutorial.html#sphx-glr-beginner-blitz-neural-networks-tutorial-py"
      ],
      "metadata": {
        "id": "sHYPBivpSOPa"
      }
    },
    {
      "cell_type": "code",
      "source": [
        "import torch.nn as nn\n",
        "import torch.nn.functional as F\n",
        "\n",
        "\n",
        "class Net(nn.Module):\n",
        "    def __init__(self):\n",
        "        super().__init__()\n",
        "        self.conv1 = nn.Conv2d(3, 6, 5)\n",
        "        self.pool = nn.MaxPool2d(2, 2)\n",
        "        self.conv2 = nn.Conv2d(6, 16, 5)\n",
        "        self.fc1 = nn.Linear(16 * 5 * 5, 120)\n",
        "        self.fc2 = nn.Linear(120, 84)\n",
        "        self.fc3 = nn.Linear(84, 10)\n",
        "\n",
        "    def forward(self, x):\n",
        "        x = self.pool(F.relu(self.conv1(x)))\n",
        "        x = self.pool(F.relu(self.conv2(x)))\n",
        "        x = torch.flatten(x, 1) # flatten all dimensions except batch\n",
        "        x = F.relu(self.fc1(x))\n",
        "        x = F.relu(self.fc2(x))\n",
        "        x = self.fc3(x)\n",
        "        return x\n",
        "\n",
        "\n",
        "net = Net()"
      ],
      "metadata": {
        "id": "qN1M7ddYM7gM"
      },
      "execution_count": null,
      "outputs": []
    },
    {
      "cell_type": "markdown",
      "source": [
        "### 3. Define a Loss function and optimizer"
      ],
      "metadata": {
        "id": "j45i7YYMNKls"
      }
    },
    {
      "cell_type": "markdown",
      "source": [
        "To train, we need Loss function and optimizer.<br>\n",
        "Thus, define the cross-entropy Loss function to be learned about classification and\n",
        "Optimizer is dified as Stochastic Gradient Descent (SGD)"
      ],
      "metadata": {
        "id": "jF061bACOFF4"
      }
    },
    {
      "cell_type": "code",
      "source": [
        "import torch.optim as optim\n",
        "\n",
        "criterion = nn.CrossEntropyLoss()\n",
        "optimizer = optim.SGD(net.parameters(), lr=0.001, momentum=0.9)"
      ],
      "metadata": {
        "id": "XHl4w6TkNhbr"
      },
      "execution_count": null,
      "outputs": []
    },
    {
      "cell_type": "markdown",
      "source": [
        "**.CrossEntropyLoss( )**\n",
        "  + .CrossEntropyLoss( ): loss function for calssification<br>\n",
        "  + Loss: Loss functions are used to gauge the error between the prediction output and the provided target value. A loss function tells us how far the algorithm model is from realizing the expected outcome. The word 'loss' means the penalty that the model gets for failing to yield the desired results.\n",
        "  + More informatin for .CrossEntropyLoss( ):  https://nuguziii.github.io/dev/dev-002/\n",
        "\n",
        "**optim.SGD**\n",
        "* What is SGD?: Algorithm to find the model parameters that correspond to the best fit between predicted and actual outputs.\n",
        "* Return from SGD: return optimal parameters.\n",
        "* optim.SGD parameters\n",
        "  + lr: learning rate <br>\n",
        "    - learning rate: learning rate is one of the key hyperparameters for gradient descent. It scales the magnitude of the model's weight updates in order to minimize the model's loss.\n",
        "  + net.parameters( ): collection of all the learning weights in the models, which is what the optimizer adjusts. <br>\n",
        "  + momentum: momentum or SGD with momentum is method which helps accelerate gradients vectors in the right directions, thus leading to faster converging. <br>\n",
        "\n",
        "**Other optimizer**<br>\n",
        "Adam/ Adadelta/ Adagrad/ AdamW/ Adamax/ RMSProp<br>\n",
        "Detail information about them:\n",
        "https://machinelearningknowledge.ai/pytorch-optimizers-complete-guide-for-beginner/"
      ],
      "metadata": {
        "id": "NIqT6V6WNVBc"
      }
    },
    {
      "cell_type": "markdown",
      "source": [
        "### 4. Training"
      ],
      "metadata": {
        "id": "nKe3OOZ9OyEe"
      }
    },
    {
      "cell_type": "markdown",
      "source": [
        "As forming loop (= epoch), be learned about iterator from preproccessed data from us"
      ],
      "metadata": {
        "id": "i5OOu2EcPQWX"
      }
    },
    {
      "cell_type": "markdown",
      "source": [
        "<font size=4>\n",
        "1) Training"
      ],
      "metadata": {
        "id": "5nUpm-_RQHaU"
      }
    },
    {
      "cell_type": "code",
      "source": [
        "for epoch in range(2):  # loop over the dataset multiple times\n",
        "\n",
        "    running_loss = 0.0 # it just use for print statistics. This line doesn't involve in train\n",
        "\n",
        "    for i, data in enumerate(trainloader, 0):\n",
        "        # (Step 1)\n",
        "        # get the inputs; data is a list of [inputs, labels]\n",
        "        # Every data instance is an input + label pair\n",
        "        inputs, labels = data\n",
        "        # (Step 2)\n",
        "        # Zero your gradients for every batch!\n",
        "        optimizer.zero_grad()\n",
        "\n",
        "        # forward + backward + optimize\n",
        "        # (Step 3)\n",
        "        # Make predictions for this batch\n",
        "        outputs = net(inputs)\n",
        "        # (Step 4)\n",
        "        loss = criterion(outputs, labels) # Loss/ criterion = nn.CrossEntropyLoss(). That is criterioin is loss class\n",
        "        # (Step 5)\n",
        "        loss.backward() # Gradient\n",
        "           # Step 4 and Step 5 are compute loss and its gradients\n",
        "        # (Step 6)\n",
        "        # Adjust learning weights\n",
        "        optimizer.step()\n",
        "\n",
        "        # print statistics\n",
        "        running_loss += loss.item()\n",
        "        if i % 2000 == 1999:    # print every 2000 mini-batches\n",
        "            print('[%d, %5d] loss: %.3f' %\n",
        "                  (epoch + 1, i + 1, running_loss / 2000))\n",
        "            running_loss = 0.0\n",
        "\n",
        "print('Finished Training')"
      ],
      "metadata": {
        "colab": {
          "base_uri": "https://localhost:8080/"
        },
        "id": "KOZq5j18PzOe",
        "outputId": "b40f4fda-5038-43fc-a118-2ce0eb047f2f"
      },
      "execution_count": null,
      "outputs": [
        {
          "output_type": "stream",
          "name": "stdout",
          "text": [
            "[1,  2000] loss: 2.307\n",
            "[1,  4000] loss: 2.308\n",
            "[1,  6000] loss: 2.307\n",
            "[1,  8000] loss: 2.308\n",
            "[1, 10000] loss: 2.307\n",
            "[1, 12000] loss: 2.308\n",
            "[2,  2000] loss: 2.307\n",
            "[2,  4000] loss: 2.307\n",
            "[2,  6000] loss: 2.308\n",
            "[2,  8000] loss: 2.308\n",
            "[2, 10000] loss: 2.306\n",
            "[2, 12000] loss: 2.308\n",
            "Finished Training\n"
          ]
        }
      ]
    },
    {
      "cell_type": "markdown",
      "source": [
        "Below, we have a function that performs one training epoch. It enumerates data from the DataLoader, and on each pass of the loop does the following:\n",
        "\n",
        "* Step 1: Gets a batch of training data from the DataLoader\n",
        "* Step 2: Zeros the optimizer’s gradients\n",
        "* Step 3: Performs an inference - that is, gets predictions from the model for an input batch\n",
        "* Step 4: Calculates the loss for that set of predictions vs. the labels on the dataset\n",
        "* Step 5: Calculates the backward gradients over the learning weights\n",
        "* Step 6: Tells the optimizer to perform one learning step - that is, adjust the model’s learning weights based on the observed gradients for this batch, according to the optimization algorithm we chose <br>=> In this stage, our model is modified.\n",
        "* It reports on the loss for every 1000 batches.\n",
        "* Finally, it reports the average per-batch loss for the last 1000 batches, for comparison with a validation run"
      ],
      "metadata": {
        "id": "0PvSg_29LLbP"
      }
    },
    {
      "cell_type": "markdown",
      "source": [
        "\\+ 'enumerate()' syntax<br>\n",
        "  * enumerate(Iterable, Start=0)\n",
        "    + Start: the index value from which the counter is to be started, by default it is 0\n",
        "    + Iterable: any object that supports iteration"
      ],
      "metadata": {
        "id": "-QN-lZ_MmVz-"
      }
    },
    {
      "cell_type": "markdown",
      "source": [
        "About Backpropagation (AUTOMATIC DIFFERENTIATION WITH) <br>\n",
        "https://pytorch.org/tutorials/beginner/basics/autogradqs_tutorial.html"
      ],
      "metadata": {
        "id": "PBzWuEaVYJ1t"
      }
    },
    {
      "cell_type": "markdown",
      "source": [
        "<font size=4>\n",
        "2) Save our Network"
      ],
      "metadata": {
        "id": "rJ7ASFTlQM91"
      }
    },
    {
      "cell_type": "code",
      "source": [
        "# Mounting\n",
        "from google.colab import drive\n",
        "drive.mount('/content/drive', force_remount=True)\n",
        "\n",
        "PATH = './cifar_net.pth'\n",
        "torch.save(net.state_dict(), PATH)"
      ],
      "metadata": {
        "id": "sYkMuWjdQYf2",
        "colab": {
          "base_uri": "https://localhost:8080/"
        },
        "outputId": "4f52bb14-e346-44c7-bc33-6ace47082476"
      },
      "execution_count": null,
      "outputs": [
        {
          "output_type": "stream",
          "name": "stdout",
          "text": [
            "Mounted at /content/drive\n"
          ]
        }
      ]
    },
    {
      "cell_type": "code",
      "source": [
        "import os\n",
        "file_name = 'cifar_net.pth'\n",
        "print(os.path.realpath('archive'))"
      ],
      "metadata": {
        "colab": {
          "base_uri": "https://localhost:8080/"
        },
        "id": "FzVFkijNSNcp",
        "outputId": "dfad729a-b20c-491b-a911-546561b713f2"
      },
      "execution_count": null,
      "outputs": [
        {
          "output_type": "stream",
          "name": "stdout",
          "text": [
            "/content/archive\n"
          ]
        }
      ]
    },
    {
      "cell_type": "markdown",
      "source": [
        "**Save and load model**<br>\n",
        "https://tutorials.pytorch.kr/beginner/saving_loading_models.html"
      ],
      "metadata": {
        "id": "HzyPKkAPRK0Y"
      }
    },
    {
      "cell_type": "markdown",
      "source": [
        "### 5. Test"
      ],
      "metadata": {
        "id": "j8Wy6zfmRkIt"
      }
    },
    {
      "cell_type": "markdown",
      "source": [
        "Check that our network is learned well previously (for example, whether the learning is overfitted or not) as comparing Ground Truth and predicted value from our network by using extracted images  arbitrary. <br><br>\n"
      ],
      "metadata": {
        "id": "mibJc96hRnBE"
      }
    },
    {
      "cell_type": "markdown",
      "source": [
        "**Ground Truth**"
      ],
      "metadata": {
        "id": "L4N_LJcRWMOY"
      }
    },
    {
      "cell_type": "code",
      "source": [
        "# Take our one image set with labels\n",
        "dataiter = iter(testloader)\n",
        "images, labels = dataiter.next()\n",
        "\n",
        "# Print images\n",
        "imshow(torchvision.utils.make_grid(images))\n",
        "print('GroundTruth: ', ' '.join('%5s' % classes[labels[j]] for j in range(4)))"
      ],
      "metadata": {
        "id": "sqnATHVYS5lg",
        "colab": {
          "base_uri": "https://localhost:8080/",
          "height": 155
        },
        "outputId": "604ad51c-f33f-466f-8e41-7abfabad688e"
      },
      "execution_count": null,
      "outputs": [
        {
          "output_type": "display_data",
          "data": {
            "text/plain": [
              "<Figure size 432x288 with 1 Axes>"
            ],
            "image/png": "[encoded data removed]"
          },
          "metadata": {
            "needs_background": "light"
          }
        },
        {
          "output_type": "stream",
          "name": "stdout",
          "text": [
            "GroundTruth:    cat  ship  ship plane\n"
          ]
        }
      ]
    },
    {
      "cell_type": "markdown",
      "source": [
        "**Predicted value**"
      ],
      "metadata": {
        "id": "uXbLc8hpWP3p"
      }
    },
    {
      "cell_type": "code",
      "source": [
        "# Load our trainned model saved above\n",
        "PATH = './cifar_net.pth'\n",
        "net = Net()\n",
        "net.load_state_dict(torch.load(PATH))\n",
        "# Return pridcted value from the loaded model\n",
        "outputs = net(images)\n",
        "_, predicted = torch.max(outputs, 1)\n",
        "\n",
        "print('Predicted: ', ' '.join('%5s' % classes[predicted[j]]\n",
        "                              for j in range(4)))"
      ],
      "metadata": {
        "id": "jkqreTq4S8-8",
        "colab": {
          "base_uri": "https://localhost:8080/"
        },
        "outputId": "e17c3fc5-6f5b-43e2-a39a-441dfbe2f87c"
      },
      "execution_count": null,
      "outputs": [
        {
          "output_type": "stream",
          "name": "stdout",
          "text": [
            "Predicted:    car   car   car   car\n"
          ]
        }
      ]
    },
    {
      "cell_type": "markdown",
      "source": [
        "loading pre-trainned model saved above as assigning saved parameter value from the saved model about Network, take out preicted value from the model."
      ],
      "metadata": {
        "id": "RnrUj27s4TOT"
      }
    },
    {
      "cell_type": "code",
      "source": [
        "print(torch.max(outputs,1))"
      ],
      "metadata": {
        "id": "jTk-l0rAeF6J",
        "colab": {
          "base_uri": "https://localhost:8080/"
        },
        "outputId": "ea65a5da-b9b8-4113-b201-4d4c3b53c7ed"
      },
      "execution_count": null,
      "outputs": [
        {
          "output_type": "stream",
          "name": "stdout",
          "text": [
            "torch.return_types.max(\n",
            "values=tensor([0.1423, 0.1449, 0.1282, 0.1461], grad_fn=<MaxBackward0>),\n",
            "indices=tensor([1, 1, 1, 1]))\n"
          ]
        }
      ]
    },
    {
      "cell_type": "markdown",
      "source": [
        "* torch.max( ): return extracted ouputs and its indicator that are came from maximum values for each results.\n",
        "  + ouput: Set of maximum values\n",
        "  + indicator: Set of indexes of each output\n",
        "however, in our case, we only need indicator.<br> So, that is why we write \"_, predicted = torch.max(outputs, 1)\"\n",
        "  + Parameter in our case\n",
        "    - torch.max(Tensor, dimension)<br>\n",
        "      - Tensor: the input tensor<br>\n",
        "      - dimension: the dimension to reduce.\n",
        "    - our case: torch.max(output, 1)<br>\n",
        "      - output: input tensor\n",
        "      - 1: we reduce dimension into 1D\n",
        "      - Thus, take out maximum value from output and reduce dimension into 1D\n",
        "\n",
        "* More detail about torch.max( ): https://pytorch.org/docs/stable/generated/torch.max.html"
      ],
      "metadata": {
        "id": "YNE-x2Q3TPjy"
      }
    },
    {
      "cell_type": "markdown",
      "source": [
        "### 6. Estimating Accuracy"
      ],
      "metadata": {
        "id": "-4GeV_BCTRLU"
      }
    },
    {
      "cell_type": "code",
      "source": [
        "net.eval()\n",
        "correct = 0\n",
        "total = 0\n",
        "with torch.no_grad():\n",
        "    for data in testloader:\n",
        "        images, labels = data\n",
        "        outputs = net(images)\n",
        "        _, predicted = torch.max(outputs.data, 1)\n",
        "        total += labels.size(0)\n",
        "        correct += (predicted == labels).sum().item()\n",
        "\n",
        "print('Accuracy of the network on the 10000 test images: %d %%' % (\n",
        "    100 * correct / total))"
      ],
      "metadata": {
        "id": "5VvI6GkyTU-t",
        "colab": {
          "base_uri": "https://localhost:8080/"
        },
        "outputId": "478a539b-a9c5-448d-a16c-d48aad674457"
      },
      "execution_count": null,
      "outputs": [
        {
          "output_type": "stream",
          "name": "stdout",
          "text": [
            "Accuracy of the network on the 10000 test images: 10 %\n"
          ]
        }
      ]
    },
    {
      "cell_type": "markdown",
      "source": [
        "Above stpes are process to find accuracy for whole test sets."
      ],
      "metadata": {
        "id": "LNQ8sYtBaovy"
      }
    },
    {
      "cell_type": "code",
      "source": [
        "class_correct = list(0. for i in range(10))\n",
        "class_total = list(0. for i in range(10))\n",
        "with torch.no_grad():\n",
        "    for data in testloader:\n",
        "        images, labels = data\n",
        "        outputs = net(images)\n",
        "        _, predicted = torch.max(outputs, 1)\n",
        "        c = (predicted == labels).squeeze()\n",
        "        for i in range(4):\n",
        "            label = labels[i]\n",
        "            class_correct[label] += c[i].item()\n",
        "            class_total[label] += 1\n",
        "\n",
        "\n",
        "for i in range(10):\n",
        "    print('Accuracy of %5s : %2d %%' % (\n",
        "        classes[i], 100 * class_correct[i] / class_total[i]))"
      ],
      "metadata": {
        "id": "TST2sUBNTony"
      },
      "execution_count": null,
      "outputs": []
    },
    {
      "cell_type": "markdown",
      "source": [
        "Through above code, we know each class's accuracy.<br>\n",
        "Based on those accuracy, we know whether wihch class predict well or not."
      ],
      "metadata": {
        "id": "HpdFvAfSaJFQ"
      }
    },
    {
      "cell_type": "markdown",
      "source": [
        "### 7. Train on GPU"
      ],
      "metadata": {
        "id": "UkJ_Y0iJUR45"
      }
    },
    {
      "cell_type": "markdown",
      "source": [
        "**What is Training on GPU**<br>\n",
        "Process to move Network (Tensor) into GPU device"
      ],
      "metadata": {
        "id": "aYEQhan8UY1I"
      }
    },
    {
      "cell_type": "code",
      "source": [
        "device = torch.device(\"cuda:0\" if torch.cuda.is_available() else \"cpu\")\n",
        "\n",
        "# Assuming that we are on a CUDA machine, this should print a CUDA device:\n",
        "\n",
        "print(device)"
      ],
      "metadata": {
        "id": "RYhOab_xUbbW"
      },
      "execution_count": null,
      "outputs": []
    },
    {
      "cell_type": "markdown",
      "source": [
        "To train on GPU, define device.<br>"
      ],
      "metadata": {
        "id": "IV8V91meUeNj"
      }
    },
    {
      "cell_type": "code",
      "source": [
        "net.to(device)"
      ],
      "metadata": {
        "id": "B3tquSN9UgIz"
      },
      "execution_count": null,
      "outputs": []
    },
    {
      "cell_type": "markdown",
      "source": [
        "If device is fixed, upload Network into device."
      ],
      "metadata": {
        "id": "WgE8VEsgUzw7"
      }
    },
    {
      "cell_type": "markdown",
      "source": [
        "## II.\tHow is the label for one datapoint represented? A datapoint can be understood as an image in the training or testing dataset."
      ],
      "metadata": {
        "id": "hAcLhgIaQsQA"
      }
    },
    {
      "cell_type": "code",
      "source": [
        "data, label = iter(trainloader).next()\n",
        "print(f'lable its image: {label.tolist()}')"
      ],
      "metadata": {
        "colab": {
          "base_uri": "https://localhost:8080/"
        },
        "id": "JVJOvcfC06On",
        "outputId": "0044764f-35b7-41c3-9dcf-11e71123e16b"
      },
      "execution_count": null,
      "outputs": [
        {
          "output_type": "stream",
          "name": "stdout",
          "text": [
            "lable its image: [5, 4, 7, 6]\n"
          ]
        }
      ]
    },
    {
      "cell_type": "markdown",
      "source": [
        "According to above code, each data's label is represented with number."
      ],
      "metadata": {
        "id": "ACorB8_ZQun9"
      }
    }
  ]
}