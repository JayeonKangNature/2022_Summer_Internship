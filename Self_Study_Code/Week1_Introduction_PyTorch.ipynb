{
  "nbformat": 4,
  "nbformat_minor": 0,
  "metadata": {
    "colab": {
      "provenance": [],
      "include_colab_link": true
    },
    "kernelspec": {
      "name": "python3",
      "display_name": "Python 3"
    },
    "language_info": {
      "name": "python"
    },
    "widgets": {
      "application/vnd.jupyter.widget-state+json": {
        "310c2cb23ade43a19d6866264f41776b": {
          "model_module": "@jupyter-widgets/controls",
          "model_name": "HBoxModel",
          "model_module_version": "1.5.0",
          "state": {
            "_dom_classes": [],
            "_model_module": "@jupyter-widgets/controls",
            "_model_module_version": "1.5.0",
            "_model_name": "HBoxModel",
            "_view_count": null,
            "_view_module": "@jupyter-widgets/controls",
            "_view_module_version": "1.5.0",
            "_view_name": "HBoxView",
            "box_style": "",
            "children": [
              "IPY_MODEL_ade961c3f18f41f8acab7eb61c6e6c3d",
              "IPY_MODEL_914a45e707af43eb8e961f0d97422e78",
              "IPY_MODEL_ab8b7ed61ec7444b9699dbccfe7b2c18"
            ],
            "layout": "IPY_MODEL_241b29c78a5249a890a42cf692e2df80"
          }
        },
        "ade961c3f18f41f8acab7eb61c6e6c3d": {
          "model_module": "@jupyter-widgets/controls",
          "model_name": "HTMLModel",
          "model_module_version": "1.5.0",
          "state": {
            "_dom_classes": [],
            "_model_module": "@jupyter-widgets/controls",
            "_model_module_version": "1.5.0",
            "_model_name": "HTMLModel",
            "_view_count": null,
            "_view_module": "@jupyter-widgets/controls",
            "_view_module_version": "1.5.0",
            "_view_name": "HTMLView",
            "description": "",
            "description_tooltip": null,
            "layout": "IPY_MODEL_7ed65205b418416db6f1981867872347",
            "placeholder": "​",
            "style": "IPY_MODEL_6d3f7cf75bd248f99c210396d9a9c2ca",
            "value": ""
          }
        },
        "914a45e707af43eb8e961f0d97422e78": {
          "model_module": "@jupyter-widgets/controls",
          "model_name": "FloatProgressModel",
          "model_module_version": "1.5.0",
          "state": {
            "_dom_classes": [],
            "_model_module": "@jupyter-widgets/controls",
            "_model_module_version": "1.5.0",
            "_model_name": "FloatProgressModel",
            "_view_count": null,
            "_view_module": "@jupyter-widgets/controls",
            "_view_module_version": "1.5.0",
            "_view_name": "ProgressView",
            "bar_style": "success",
            "description": "",
            "description_tooltip": null,
            "layout": "IPY_MODEL_a8da09cf73e848ef873890c92b18edba",
            "max": 170498071,
            "min": 0,
            "orientation": "horizontal",
            "style": "IPY_MODEL_fa6cfcd618f34398925a7783a6cda44b",
            "value": 170498071
          }
        },
        "ab8b7ed61ec7444b9699dbccfe7b2c18": {
          "model_module": "@jupyter-widgets/controls",
          "model_name": "HTMLModel",
          "model_module_version": "1.5.0",
          "state": {
            "_dom_classes": [],
            "_model_module": "@jupyter-widgets/controls",
            "_model_module_version": "1.5.0",
            "_model_name": "HTMLModel",
            "_view_count": null,
            "_view_module": "@jupyter-widgets/controls",
            "_view_module_version": "1.5.0",
            "_view_name": "HTMLView",
            "description": "",
            "description_tooltip": null,
            "layout": "IPY_MODEL_c71130302ac44c639179be3e004173ea",
            "placeholder": "​",
            "style": "IPY_MODEL_c881cf1033cc41e7ab141c505fce6d67",
            "value": " 170499072/? [00:01&lt;00:00, 96391942.09it/s]"
          }
        },
        "241b29c78a5249a890a42cf692e2df80": {
          "model_module": "@jupyter-widgets/base",
          "model_name": "LayoutModel",
          "model_module_version": "1.2.0",
          "state": {
            "_model_module": "@jupyter-widgets/base",
            "_model_module_version": "1.2.0",
            "_model_name": "LayoutModel",
            "_view_count": null,
            "_view_module": "@jupyter-widgets/base",
            "_view_module_version": "1.2.0",
            "_view_name": "LayoutView",
            "align_content": null,
            "align_items": null,
            "align_self": null,
            "border": null,
            "bottom": null,
            "display": null,
            "flex": null,
            "flex_flow": null,
            "grid_area": null,
            "grid_auto_columns": null,
            "grid_auto_flow": null,
            "grid_auto_rows": null,
            "grid_column": null,
            "grid_gap": null,
            "grid_row": null,
            "grid_template_areas": null,
            "grid_template_columns": null,
            "grid_template_rows": null,
            "height": null,
            "justify_content": null,
            "justify_items": null,
            "left": null,
            "margin": null,
            "max_height": null,
            "max_width": null,
            "min_height": null,
            "min_width": null,
            "object_fit": null,
            "object_position": null,
            "order": null,
            "overflow": null,
            "overflow_x": null,
            "overflow_y": null,
            "padding": null,
            "right": null,
            "top": null,
            "visibility": null,
            "width": null
          }
        },
        "7ed65205b418416db6f1981867872347": {
          "model_module": "@jupyter-widgets/base",
          "model_name": "LayoutModel",
          "model_module_version": "1.2.0",
          "state": {
            "_model_module": "@jupyter-widgets/base",
            "_model_module_version": "1.2.0",
            "_model_name": "LayoutModel",
            "_view_count": null,
            "_view_module": "@jupyter-widgets/base",
            "_view_module_version": "1.2.0",
            "_view_name": "LayoutView",
            "align_content": null,
            "align_items": null,
            "align_self": null,
            "border": null,
            "bottom": null,
            "display": null,
            "flex": null,
            "flex_flow": null,
            "grid_area": null,
            "grid_auto_columns": null,
            "grid_auto_flow": null,
            "grid_auto_rows": null,
            "grid_column": null,
            "grid_gap": null,
            "grid_row": null,
            "grid_template_areas": null,
            "grid_template_columns": null,
            "grid_template_rows": null,
            "height": null,
            "justify_content": null,
            "justify_items": null,
            "left": null,
            "margin": null,
            "max_height": null,
            "max_width": null,
            "min_height": null,
            "min_width": null,
            "object_fit": null,
            "object_position": null,
            "order": null,
            "overflow": null,
            "overflow_x": null,
            "overflow_y": null,
            "padding": null,
            "right": null,
            "top": null,
            "visibility": null,
            "width": null
          }
        },
        "6d3f7cf75bd248f99c210396d9a9c2ca": {
          "model_module": "@jupyter-widgets/controls",
          "model_name": "DescriptionStyleModel",
          "model_module_version": "1.5.0",
          "state": {
            "_model_module": "@jupyter-widgets/controls",
            "_model_module_version": "1.5.0",
            "_model_name": "DescriptionStyleModel",
            "_view_count": null,
            "_view_module": "@jupyter-widgets/base",
            "_view_module_version": "1.2.0",
            "_view_name": "StyleView",
            "description_width": ""
          }
        },
        "a8da09cf73e848ef873890c92b18edba": {
          "model_module": "@jupyter-widgets/base",
          "model_name": "LayoutModel",
          "model_module_version": "1.2.0",
          "state": {
            "_model_module": "@jupyter-widgets/base",
            "_model_module_version": "1.2.0",
            "_model_name": "LayoutModel",
            "_view_count": null,
            "_view_module": "@jupyter-widgets/base",
            "_view_module_version": "1.2.0",
            "_view_name": "LayoutView",
            "align_content": null,
            "align_items": null,
            "align_self": null,
            "border": null,
            "bottom": null,
            "display": null,
            "flex": null,
            "flex_flow": null,
            "grid_area": null,
            "grid_auto_columns": null,
            "grid_auto_flow": null,
            "grid_auto_rows": null,
            "grid_column": null,
            "grid_gap": null,
            "grid_row": null,
            "grid_template_areas": null,
            "grid_template_columns": null,
            "grid_template_rows": null,
            "height": null,
            "justify_content": null,
            "justify_items": null,
            "left": null,
            "margin": null,
            "max_height": null,
            "max_width": null,
            "min_height": null,
            "min_width": null,
            "object_fit": null,
            "object_position": null,
            "order": null,
            "overflow": null,
            "overflow_x": null,
            "overflow_y": null,
            "padding": null,
            "right": null,
            "top": null,
            "visibility": null,
            "width": null
          }
        },
        "fa6cfcd618f34398925a7783a6cda44b": {
          "model_module": "@jupyter-widgets/controls",
          "model_name": "ProgressStyleModel",
          "model_module_version": "1.5.0",
          "state": {
            "_model_module": "@jupyter-widgets/controls",
            "_model_module_version": "1.5.0",
            "_model_name": "ProgressStyleModel",
            "_view_count": null,
            "_view_module": "@jupyter-widgets/base",
            "_view_module_version": "1.2.0",
            "_view_name": "StyleView",
            "bar_color": null,
            "description_width": ""
          }
        },
        "c71130302ac44c639179be3e004173ea": {
          "model_module": "@jupyter-widgets/base",
          "model_name": "LayoutModel",
          "model_module_version": "1.2.0",
          "state": {
            "_model_module": "@jupyter-widgets/base",
            "_model_module_version": "1.2.0",
            "_model_name": "LayoutModel",
            "_view_count": null,
            "_view_module": "@jupyter-widgets/base",
            "_view_module_version": "1.2.0",
            "_view_name": "LayoutView",
            "align_content": null,
            "align_items": null,
            "align_self": null,
            "border": null,
            "bottom": null,
            "display": null,
            "flex": null,
            "flex_flow": null,
            "grid_area": null,
            "grid_auto_columns": null,
            "grid_auto_flow": null,
            "grid_auto_rows": null,
            "grid_column": null,
            "grid_gap": null,
            "grid_row": null,
            "grid_template_areas": null,
            "grid_template_columns": null,
            "grid_template_rows": null,
            "height": null,
            "justify_content": null,
            "justify_items": null,
            "left": null,
            "margin": null,
            "max_height": null,
            "max_width": null,
            "min_height": null,
            "min_width": null,
            "object_fit": null,
            "object_position": null,
            "order": null,
            "overflow": null,
            "overflow_x": null,
            "overflow_y": null,
            "padding": null,
            "right": null,
            "top": null,
            "visibility": null,
            "width": null
          }
        },
        "c881cf1033cc41e7ab141c505fce6d67": {
          "model_module": "@jupyter-widgets/controls",
          "model_name": "DescriptionStyleModel",
          "model_module_version": "1.5.0",
          "state": {
            "_model_module": "@jupyter-widgets/controls",
            "_model_module_version": "1.5.0",
            "_model_name": "DescriptionStyleModel",
            "_view_count": null,
            "_view_module": "@jupyter-widgets/base",
            "_view_module_version": "1.2.0",
            "_view_name": "StyleView",
            "description_width": ""
          }
        },
        "aa6c6f48a8814b91995f6693241dfde9": {
          "model_module": "@jupyter-widgets/controls",
          "model_name": "HBoxModel",
          "model_module_version": "1.5.0",
          "state": {
            "_dom_classes": [],
            "_model_module": "@jupyter-widgets/controls",
            "_model_module_version": "1.5.0",
            "_model_name": "HBoxModel",
            "_view_count": null,
            "_view_module": "@jupyter-widgets/controls",
            "_view_module_version": "1.5.0",
            "_view_name": "HBoxView",
            "box_style": "",
            "children": [
              "IPY_MODEL_dc93d1f30b0643889bd7784f70dccfff",
              "IPY_MODEL_b6d4c0fa8f0443d29f03b31054c8583c",
              "IPY_MODEL_231dd977e4f847f1bedf98ee816dbdb6"
            ],
            "layout": "IPY_MODEL_c2c2394aa8034ed19e8179328168694f"
          }
        },
        "dc93d1f30b0643889bd7784f70dccfff": {
          "model_module": "@jupyter-widgets/controls",
          "model_name": "HTMLModel",
          "model_module_version": "1.5.0",
          "state": {
            "_dom_classes": [],
            "_model_module": "@jupyter-widgets/controls",
            "_model_module_version": "1.5.0",
            "_model_name": "HTMLModel",
            "_view_count": null,
            "_view_module": "@jupyter-widgets/controls",
            "_view_module_version": "1.5.0",
            "_view_name": "HTMLView",
            "description": "",
            "description_tooltip": null,
            "layout": "IPY_MODEL_eed39f7fb2cb44b7ba75e071e7b52e88",
            "placeholder": "​",
            "style": "IPY_MODEL_d84d41a1e8764ee580117c8cfc62c8d2",
            "value": ""
          }
        },
        "b6d4c0fa8f0443d29f03b31054c8583c": {
          "model_module": "@jupyter-widgets/controls",
          "model_name": "FloatProgressModel",
          "model_module_version": "1.5.0",
          "state": {
            "_dom_classes": [],
            "_model_module": "@jupyter-widgets/controls",
            "_model_module_version": "1.5.0",
            "_model_name": "FloatProgressModel",
            "_view_count": null,
            "_view_module": "@jupyter-widgets/controls",
            "_view_module_version": "1.5.0",
            "_view_name": "ProgressView",
            "bar_style": "success",
            "description": "",
            "description_tooltip": null,
            "layout": "IPY_MODEL_2cf1fcb883dc44eda74c215b27f95451",
            "max": 170498071,
            "min": 0,
            "orientation": "horizontal",
            "style": "IPY_MODEL_ec8a2d93df0b42e496ce0b0d91858649",
            "value": 170498071
          }
        },
        "231dd977e4f847f1bedf98ee816dbdb6": {
          "model_module": "@jupyter-widgets/controls",
          "model_name": "HTMLModel",
          "model_module_version": "1.5.0",
          "state": {
            "_dom_classes": [],
            "_model_module": "@jupyter-widgets/controls",
            "_model_module_version": "1.5.0",
            "_model_name": "HTMLModel",
            "_view_count": null,
            "_view_module": "@jupyter-widgets/controls",
            "_view_module_version": "1.5.0",
            "_view_name": "HTMLView",
            "description": "",
            "description_tooltip": null,
            "layout": "IPY_MODEL_ee6f163a3efe4cd29906087c1d0c8853",
            "placeholder": "​",
            "style": "IPY_MODEL_55a08266982845c49df134a231862bc5",
            "value": " 170499072/? [00:02&lt;00:00, 65354783.11it/s]"
          }
        },
        "c2c2394aa8034ed19e8179328168694f": {
          "model_module": "@jupyter-widgets/base",
          "model_name": "LayoutModel",
          "model_module_version": "1.2.0",
          "state": {
            "_model_module": "@jupyter-widgets/base",
            "_model_module_version": "1.2.0",
            "_model_name": "LayoutModel",
            "_view_count": null,
            "_view_module": "@jupyter-widgets/base",
            "_view_module_version": "1.2.0",
            "_view_name": "LayoutView",
            "align_content": null,
            "align_items": null,
            "align_self": null,
            "border": null,
            "bottom": null,
            "display": null,
            "flex": null,
            "flex_flow": null,
            "grid_area": null,
            "grid_auto_columns": null,
            "grid_auto_flow": null,
            "grid_auto_rows": null,
            "grid_column": null,
            "grid_gap": null,
            "grid_row": null,
            "grid_template_areas": null,
            "grid_template_columns": null,
            "grid_template_rows": null,
            "height": null,
            "justify_content": null,
            "justify_items": null,
            "left": null,
            "margin": null,
            "max_height": null,
            "max_width": null,
            "min_height": null,
            "min_width": null,
            "object_fit": null,
            "object_position": null,
            "order": null,
            "overflow": null,
            "overflow_x": null,
            "overflow_y": null,
            "padding": null,
            "right": null,
            "top": null,
            "visibility": null,
            "width": null
          }
        },
        "eed39f7fb2cb44b7ba75e071e7b52e88": {
          "model_module": "@jupyter-widgets/base",
          "model_name": "LayoutModel",
          "model_module_version": "1.2.0",
          "state": {
            "_model_module": "@jupyter-widgets/base",
            "_model_module_version": "1.2.0",
            "_model_name": "LayoutModel",
            "_view_count": null,
            "_view_module": "@jupyter-widgets/base",
            "_view_module_version": "1.2.0",
            "_view_name": "LayoutView",
            "align_content": null,
            "align_items": null,
            "align_self": null,
            "border": null,
            "bottom": null,
            "display": null,
            "flex": null,
            "flex_flow": null,
            "grid_area": null,
            "grid_auto_columns": null,
            "grid_auto_flow": null,
            "grid_auto_rows": null,
            "grid_column": null,
            "grid_gap": null,
            "grid_row": null,
            "grid_template_areas": null,
            "grid_template_columns": null,
            "grid_template_rows": null,
            "height": null,
            "justify_content": null,
            "justify_items": null,
            "left": null,
            "margin": null,
            "max_height": null,
            "max_width": null,
            "min_height": null,
            "min_width": null,
            "object_fit": null,
            "object_position": null,
            "order": null,
            "overflow": null,
            "overflow_x": null,
            "overflow_y": null,
            "padding": null,
            "right": null,
            "top": null,
            "visibility": null,
            "width": null
          }
        },
        "d84d41a1e8764ee580117c8cfc62c8d2": {
          "model_module": "@jupyter-widgets/controls",
          "model_name": "DescriptionStyleModel",
          "model_module_version": "1.5.0",
          "state": {
            "_model_module": "@jupyter-widgets/controls",
            "_model_module_version": "1.5.0",
            "_model_name": "DescriptionStyleModel",
            "_view_count": null,
            "_view_module": "@jupyter-widgets/base",
            "_view_module_version": "1.2.0",
            "_view_name": "StyleView",
            "description_width": ""
          }
        },
        "2cf1fcb883dc44eda74c215b27f95451": {
          "model_module": "@jupyter-widgets/base",
          "model_name": "LayoutModel",
          "model_module_version": "1.2.0",
          "state": {
            "_model_module": "@jupyter-widgets/base",
            "_model_module_version": "1.2.0",
            "_model_name": "LayoutModel",
            "_view_count": null,
            "_view_module": "@jupyter-widgets/base",
            "_view_module_version": "1.2.0",
            "_view_name": "LayoutView",
            "align_content": null,
            "align_items": null,
            "align_self": null,
            "border": null,
            "bottom": null,
            "display": null,
            "flex": null,
            "flex_flow": null,
            "grid_area": null,
            "grid_auto_columns": null,
            "grid_auto_flow": null,
            "grid_auto_rows": null,
            "grid_column": null,
            "grid_gap": null,
            "grid_row": null,
            "grid_template_areas": null,
            "grid_template_columns": null,
            "grid_template_rows": null,
            "height": null,
            "justify_content": null,
            "justify_items": null,
            "left": null,
            "margin": null,
            "max_height": null,
            "max_width": null,
            "min_height": null,
            "min_width": null,
            "object_fit": null,
            "object_position": null,
            "order": null,
            "overflow": null,
            "overflow_x": null,
            "overflow_y": null,
            "padding": null,
            "right": null,
            "top": null,
            "visibility": null,
            "width": null
          }
        },
        "ec8a2d93df0b42e496ce0b0d91858649": {
          "model_module": "@jupyter-widgets/controls",
          "model_name": "ProgressStyleModel",
          "model_module_version": "1.5.0",
          "state": {
            "_model_module": "@jupyter-widgets/controls",
            "_model_module_version": "1.5.0",
            "_model_name": "ProgressStyleModel",
            "_view_count": null,
            "_view_module": "@jupyter-widgets/base",
            "_view_module_version": "1.2.0",
            "_view_name": "StyleView",
            "bar_color": null,
            "description_width": ""
          }
        },
        "ee6f163a3efe4cd29906087c1d0c8853": {
          "model_module": "@jupyter-widgets/base",
          "model_name": "LayoutModel",
          "model_module_version": "1.2.0",
          "state": {
            "_model_module": "@jupyter-widgets/base",
            "_model_module_version": "1.2.0",
            "_model_name": "LayoutModel",
            "_view_count": null,
            "_view_module": "@jupyter-widgets/base",
            "_view_module_version": "1.2.0",
            "_view_name": "LayoutView",
            "align_content": null,
            "align_items": null,
            "align_self": null,
            "border": null,
            "bottom": null,
            "display": null,
            "flex": null,
            "flex_flow": null,
            "grid_area": null,
            "grid_auto_columns": null,
            "grid_auto_flow": null,
            "grid_auto_rows": null,
            "grid_column": null,
            "grid_gap": null,
            "grid_row": null,
            "grid_template_areas": null,
            "grid_template_columns": null,
            "grid_template_rows": null,
            "height": null,
            "justify_content": null,
            "justify_items": null,
            "left": null,
            "margin": null,
            "max_height": null,
            "max_width": null,
            "min_height": null,
            "min_width": null,
            "object_fit": null,
            "object_position": null,
            "order": null,
            "overflow": null,
            "overflow_x": null,
            "overflow_y": null,
            "padding": null,
            "right": null,
            "top": null,
            "visibility": null,
            "width": null
          }
        },
        "55a08266982845c49df134a231862bc5": {
          "model_module": "@jupyter-widgets/controls",
          "model_name": "DescriptionStyleModel",
          "model_module_version": "1.5.0",
          "state": {
            "_model_module": "@jupyter-widgets/controls",
            "_model_module_version": "1.5.0",
            "_model_name": "DescriptionStyleModel",
            "_view_count": null,
            "_view_module": "@jupyter-widgets/base",
            "_view_module_version": "1.2.0",
            "_view_name": "StyleView",
            "description_width": ""
          }
        }
      }
    }
  },
  "cells": [
    {
      "cell_type": "markdown",
      "metadata": {
        "id": "view-in-github",
        "colab_type": "text"
      },
      "source": [
        "<a href=\"https://colab.research.google.com/github/JayeonKangNature/2022_Summer_Internship/blob/main/Self_Study_Code/week1_Introduction_PyTorch.ipynb\" target=\"_parent\"><img src=\"https://colab.research.google.com/assets/colab-badge.svg\" alt=\"Open In Colab\"/></a>"
      ]
    },
    {
      "cell_type": "markdown",
      "source": [
        "**0. Introduction PyTorch**"
      ],
      "metadata": {
        "id": "bkfyLZ47d1r7"
      }
    },
    {
      "cell_type": "markdown",
      "source": [
        "Jayeon Kang\n"
      ],
      "metadata": {
        "id": "qg9e-bA6_vqb"
      }
    },
    {
      "cell_type": "code",
      "execution_count": null,
      "metadata": {
        "id": "DXpAhkRNeBIE"
      },
      "outputs": [],
      "source": [
        "import torch"
      ]
    },
    {
      "cell_type": "markdown",
      "source": [
        "Basic Tensor Manipulations"
      ],
      "metadata": {
        "id": "y3pM7mvfeOLi"
      }
    },
    {
      "cell_type": "code",
      "source": [
        "z = torch.zeros(5,3)\n",
        "print(z)\n",
        "print(z.dtype)"
      ],
      "metadata": {
        "colab": {
          "base_uri": "https://localhost:8080/"
        },
        "id": "RQ014kNweNd2",
        "outputId": "95c11069-5009-4f37-b74b-9785f790f6f5"
      },
      "execution_count": null,
      "outputs": [
        {
          "output_type": "stream",
          "name": "stdout",
          "text": [
            "tensor([[0., 0., 0.],\n",
            "        [0., 0., 0.],\n",
            "        [0., 0., 0.],\n",
            "        [0., 0., 0.],\n",
            "        [0., 0., 0.]])\n",
            "torch.float32\n"
          ]
        }
      ]
    },
    {
      "cell_type": "markdown",
      "source": [
        "5x3 matrix is created filled with zeroes and, quary its data type to find out that the zeros are the datatype is 32-bit floating point numbers, <br>which is the default PyTorch.\n",
        "\n",
        "As I want integers instead, override the defalts:"
      ],
      "metadata": {
        "id": "qVkXjX2Ne4vO"
      }
    },
    {
      "cell_type": "code",
      "source": [
        "i = torch.ones((5,3), dtype=torch.int16)\n",
        "print(i)\n",
        "print(i.dtype)"
      ],
      "metadata": {
        "colab": {
          "base_uri": "https://localhost:8080/"
        },
        "id": "d1-fPiSChl2a",
        "outputId": "f84ed9dd-53ee-4709-9d46-a9e9c237021e"
      },
      "execution_count": null,
      "outputs": [
        {
          "output_type": "stream",
          "name": "stdout",
          "text": [
            "tensor([[1, 1, 1],\n",
            "        [1, 1, 1],\n",
            "        [1, 1, 1],\n",
            "        [1, 1, 1],\n",
            "        [1, 1, 1]], dtype=torch.int16)\n",
            "torch.int16\n"
          ]
        }
      ]
    },
    {
      "cell_type": "markdown",
      "source": [
        "You can see change of defulat (data type and filled number)\n",
        "\n",
        "It is common to initialize learning weight randomly, often with sepecific seed for the PRNG (Pseudo-Random Numbers Generators) for reproductivility of resutls:"
      ],
      "metadata": {
        "id": "agzJXFgsiR-9"
      }
    },
    {
      "cell_type": "code",
      "source": [
        "torch.manual_seed(1729)\n",
        "# function to fix random seed, for reproducibilty https://glaringlee.github.io/notes/randomness.html#reproducibility\n",
        "# When you ask for random number in pytorch (with torch.rand() or t.uniform_() for example) these random numbers are generated from a specific algorithm.\n",
        "#A nice property of this algorithm is that you can fix it’s starting point and it will always generate the same random numbers afterwards. That way, you can have reproducible code even with random functions in it.\n",
        "#The seed is just this starting point.\n",
        "r1 = torch.rand(2, 2)\n",
        "print('A random tensor:')\n",
        "print(f'r1 = {r1}')\n",
        "\n",
        "# Let's repeat doing .rand\n",
        "r2 = torch.rand(2,2)\n",
        "print(f'r2 = {r2}')\n",
        "\n",
        "# Then, refixing seed and randomize with same value above\n",
        "torch.manual_seed(1729) # re-seeding with same number above\n",
        "r3 = torch.rand(2,2)\n",
        "print(f'r3 = {r3}')\n",
        "\n",
        "#when you look at those 3 cases,\n",
        "#r1 and r2 has different result but r3 are same with r1\n",
        "\n",
        "r4 = torch.rand(2,2)\n",
        "print('r4 =',r4)\n",
        "\n",
        "torch.manual_seed(1730)\n",
        "r5 = torch.rand(2,2)\n",
        "print('r5 =',r5)\n"
      ],
      "metadata": {
        "colab": {
          "base_uri": "https://localhost:8080/"
        },
        "id": "TxedlTgSjI_8",
        "outputId": "6400c55b-33c9-4213-93f7-1efd0701f8e3"
      },
      "execution_count": null,
      "outputs": [
        {
          "output_type": "stream",
          "name": "stdout",
          "text": [
            "A random tensor:\n",
            "r1 = tensor([[0.3126, 0.3791],\n",
            "        [0.3087, 0.0736]])\n",
            "r2 = tensor([[0.4216, 0.0691],\n",
            "        [0.2332, 0.4047]])\n",
            "r3 = tensor([[0.3126, 0.3791],\n",
            "        [0.3087, 0.0736]])\n",
            "r4 = tensor([[0.4216, 0.0691],\n",
            "        [0.2332, 0.4047]])\n",
            "r5 = tensor([[0.9689, 0.5078],\n",
            "        [0.4918, 0.2002]])\n"
          ]
        }
      ]
    },
    {
      "cell_type": "markdown",
      "source": [
        "PyTorch tensors perform arithmatric operations intuitively.<br> Tensors of similar shapes may be added, multiplied, etc.<br> Operations with scalars are distributed over the tensor:"
      ],
      "metadata": {
        "id": "OkzCZO6fqLQ4"
      }
    },
    {
      "cell_type": "code",
      "source": [
        "ones = torch.ones(2, 3)\n",
        "print(ones,'\\n')\n",
        "\n",
        "twos = torch.ones(2,3) * 2\n",
        "print(twos)\n",
        "print('explain: you will see multiplied all elements with 2')\n",
        "\n",
        "threes = ones + twos\n",
        "print(threes)\n",
        "print('explain: you will see a matrix summed with twos and ones \\n')\n",
        "print(threes.shape)"
      ],
      "metadata": {
        "colab": {
          "base_uri": "https://localhost:8080/"
        },
        "id": "q17RLS1lqvrn",
        "outputId": "d5f6e12c-26d8-496d-8da2-31eb4c421905"
      },
      "execution_count": null,
      "outputs": [
        {
          "output_type": "stream",
          "name": "stdout",
          "text": [
            "tensor([[1., 1., 1.],\n",
            "        [1., 1., 1.]]) \n",
            "\n",
            "tensor([[2., 2., 2.],\n",
            "        [2., 2., 2.]])\n",
            "explain: you will see multiplied all elements with 2\n",
            "tensor([[3., 3., 3.],\n",
            "        [3., 3., 3.]])\n",
            "explain: you will see a matrix summed with twos and ones \n",
            "\n",
            "torch.Size([2, 3])\n"
          ]
        }
      ]
    },
    {
      "cell_type": "code",
      "source": [
        "torch.manual_seed(1729)\n",
        "r1 = torch.rand(2,3)\n",
        "r2 = torch.rand(3,2)\n",
        "print('r1 =',r1)\n",
        "print('r2 =',r2)\n",
        "print('r1 size:',r1.shape,'r2 size:', r2.shape)\n",
        "r3 = r1 + r2\n",
        "print('r3 =',r3)\n",
        "print('explain: if differnet matrixs are calculated, error is occured. That is that to cacluate among matrices those all matrices must be same size')"
      ],
      "metadata": {
        "colab": {
          "base_uri": "https://localhost:8080/",
          "height": 364
        },
        "id": "ZWDRkQg-rcWn",
        "outputId": "4b652ad3-b657-4466-a516-33c063a79a70"
      },
      "execution_count": null,
      "outputs": [
        {
          "output_type": "stream",
          "name": "stdout",
          "text": [
            "r1 = tensor([[0.3126, 0.3791, 0.3087],\n",
            "        [0.0736, 0.4216, 0.0691]])\n",
            "r2 = tensor([[0.2332, 0.4047],\n",
            "        [0.2162, 0.9927],\n",
            "        [0.4128, 0.5938]])\n",
            "r1 size: torch.Size([2, 3]) r2 size: torch.Size([3, 2])\n"
          ]
        },
        {
          "output_type": "error",
          "ename": "RuntimeError",
          "evalue": "ignored",
          "traceback": [
            "\u001b[0;31m---------------------------------------------------------------------------\u001b[0m",
            "\u001b[0;31mRuntimeError\u001b[0m                              Traceback (most recent call last)",
            "\u001b[0;32m<ipython-input-19-5026aa44337a>\u001b[0m in \u001b[0;36m<module>\u001b[0;34m()\u001b[0m\n\u001b[1;32m      5\u001b[0m \u001b[0mprint\u001b[0m\u001b[0;34m(\u001b[0m\u001b[0;34m'r2 ='\u001b[0m\u001b[0;34m,\u001b[0m\u001b[0mr2\u001b[0m\u001b[0;34m)\u001b[0m\u001b[0;34m\u001b[0m\u001b[0;34m\u001b[0m\u001b[0m\n\u001b[1;32m      6\u001b[0m \u001b[0mprint\u001b[0m\u001b[0;34m(\u001b[0m\u001b[0;34m'r1 size:'\u001b[0m\u001b[0;34m,\u001b[0m\u001b[0mr1\u001b[0m\u001b[0;34m.\u001b[0m\u001b[0mshape\u001b[0m\u001b[0;34m,\u001b[0m\u001b[0;34m'r2 size:'\u001b[0m\u001b[0;34m,\u001b[0m \u001b[0mr2\u001b[0m\u001b[0;34m.\u001b[0m\u001b[0mshape\u001b[0m\u001b[0;34m)\u001b[0m\u001b[0;34m\u001b[0m\u001b[0;34m\u001b[0m\u001b[0m\n\u001b[0;32m----> 7\u001b[0;31m \u001b[0mr3\u001b[0m \u001b[0;34m=\u001b[0m \u001b[0mr1\u001b[0m \u001b[0;34m+\u001b[0m \u001b[0mr2\u001b[0m\u001b[0;34m\u001b[0m\u001b[0;34m\u001b[0m\u001b[0m\n\u001b[0m\u001b[1;32m      8\u001b[0m \u001b[0mprint\u001b[0m\u001b[0;34m(\u001b[0m\u001b[0;34m'r3 ='\u001b[0m\u001b[0;34m,\u001b[0m\u001b[0mr3\u001b[0m\u001b[0;34m)\u001b[0m\u001b[0;34m\u001b[0m\u001b[0;34m\u001b[0m\u001b[0m\n\u001b[1;32m      9\u001b[0m \u001b[0mprint\u001b[0m\u001b[0;34m(\u001b[0m\u001b[0;34m'explain: if differnet matrixs are calculated, error is occured. That is that to cacluate among matrices those all matrices must be same size'\u001b[0m\u001b[0;34m)\u001b[0m\u001b[0;34m\u001b[0m\u001b[0;34m\u001b[0m\u001b[0m\n",
            "\u001b[0;31mRuntimeError\u001b[0m: The size of tensor a (3) must match the size of tensor b (2) at non-singleton dimension 1"
          ]
        }
      ]
    },
    {
      "cell_type": "markdown",
      "source": [
        "Here is small sample explaination of the mathmatical operations available:"
      ],
      "metadata": {
        "id": "0R2mhN7tr5dU"
      }
    },
    {
      "cell_type": "code",
      "source": [
        "r = torch.rand(2, 2) - 0.5 * 2 # values between -1 and 1\n",
        "print('A random matrix, r:')\n",
        "print(r)\n",
        "\n",
        "# Common mathmatical operations are supported:\n",
        "print('\\nAbsolute value of r by using .abs():')\n",
        "print(torch.abs(r))\n",
        "\n",
        "# ...as are trigometirc functions:\n",
        "print('\\nInverse sine of r by using .asin():')\n",
        "print(torch.asin(r))\n",
        "\n",
        "# ...and linear algebra operations like determinant and sinvular value decomposition\n",
        "print('\\nDeterminant of r by using .det():')\n",
        "print(torch.det(r))\n",
        "\n",
        "# ...and statistical and aggregate operations:\n",
        "print('\\nAverage andn standard deviation of r by using .std_mean():')\n",
        "print(torch.std_mean(r))\n",
        "print('\\nMaximum value of r by using .max():')\n",
        "print(torch.max(r))"
      ],
      "metadata": {
        "colab": {
          "base_uri": "https://localhost:8080/"
        },
        "id": "Yj3BMTkatTft",
        "outputId": "c2fc39db-adce-41cc-e09f-048318e4c7df"
      },
      "execution_count": null,
      "outputs": [
        {
          "output_type": "stream",
          "name": "stdout",
          "text": [
            "A random matrix, r:\n",
            "tensor([[-0.3872, -0.8481],\n",
            "        [-0.9547, -0.4965]])\n",
            "\n",
            "Absolute value of r by using .abs():\n",
            "tensor([[0.3872, 0.8481],\n",
            "        [0.9547, 0.4965]])\n",
            "\n",
            "Inverse sine of r by using .asin():\n",
            "tensor([[-0.3976, -1.0123],\n",
            "        [-1.2685, -0.5196]])\n",
            "\n",
            "Determinant of r by using .det():\n",
            "tensor(-0.6173)\n",
            "\n",
            "Average andn standard deviation of r by using .std_mean():\n",
            "(tensor(0.2725), tensor(-0.6716))\n",
            "\n",
            "Maximum value of r by using .max():\n",
            "tensor(-0.3872)\n"
          ]
        }
      ]
    },
    {
      "cell_type": "markdown",
      "source": [
        "There's a good deal more to know about the power of PyTorch tensors, including how to set them up for parallel computation on GPU - we'll be going into more depth in another video"
      ],
      "metadata": {
        "id": "hXHacaarvkJS"
      }
    },
    {
      "cell_type": "markdown",
      "source": [
        "**1. Building model in PyTorch**"
      ],
      "metadata": {
        "id": "8oO2uRbjeBOJ"
      }
    },
    {
      "cell_type": "code",
      "source": [
        "import torch # for all things PyTorch\n",
        "import torch.nn as nn # for torch.nn.Module, the parent object for PyTorch modles\n",
        "import torch.nn.functional as F # for the activation function"
      ],
      "metadata": {
        "id": "yNxZC1x8eAhm"
      },
      "execution_count": null,
      "outputs": []
    },
    {
      "cell_type": "markdown",
      "source": [
        "Convolutional neural netork work process (LeNet-5 as example)"
      ],
      "metadata": {
        "id": "vIeNEnWTeowm"
      }
    },
    {
      "cell_type": "code",
      "source": [
        "class LeNet(nn.Module): # from nn.Module, Conv2d and Linear layer classes inherit\n",
        "  def __init__(self):  # to initiate its layers, and loads any data artifacts it might need\n",
        "          # ex. an NLP might load a vocabulary\n",
        "          # * Natural Language Processing (NLP): a pre-eminent AI technology\n",
        "          # that enables machines to read, decipher, understand, and make sense of human languages\n",
        "    super(LeNet, self).__init__()\n",
        "    # 1 input image channel with balck and white, 6 ouput chennels, 3x3 squre convolutioni\n",
        "    # kernel\n",
        "    self.conv1 = nn.Conv2d(1, 6, 3)\n",
        "    self.conv2 = nn.Conv2d(6, 16, 3)\n",
        "    # an affine operation: y = Wx + b\n",
        "    self.fc1 = nn.Linear(16 * 6 * 6, 120)  # 6*6 from image dimension\n",
        "    self.fc2 = nn.Linear(120, 84)\n",
        "    self.fc3 = nn.Linear(84, 10)\n",
        "  def forward(self, x): # this function do acutal computation.\n",
        "                        # => as entering inputs throgh network layers and many fucntions return a lot of ouputs (= prediction)\n",
        "    # Max pooling over a (2, 2) window\n",
        "    x = F.max_pool2d(F.relu(self.conv1(x)), (2, 2))\n",
        "    # If the size is a square you can only specify a single number\n",
        "    x = F.max_pool2d(F.relu(self.conv2(x)), 2)\n",
        "    x = x.view(-1, self.num_flat_features(x))\n",
        "    x = F.relu(self.fc1(x))\n",
        "    x = F.relu(self.fc2(x))\n",
        "    x = self.fc3(x)\n",
        "    return x\n",
        "  def num_flat_features(self, x):\n",
        "    size = x.size()[1:]  # all dimensions except the batch dimension\n",
        "    num_features = 1\n",
        "    for s in size:\n",
        "      num_features *= s\n",
        "    return num_features"
      ],
      "metadata": {
        "id": "KtD3e_EmhDoy"
      },
      "execution_count": null,
      "outputs": []
    },
    {
      "cell_type": "code",
      "source": [
        "net = LeNet()\n",
        "print(net) # what does the obect tell us about itself?"
      ],
      "metadata": {
        "colab": {
          "base_uri": "https://localhost:8080/"
        },
        "id": "L63zcdcfFU0z",
        "outputId": "a76a7492-85e2-4769-96a1-de4cdc9accaf"
      },
      "execution_count": null,
      "outputs": [
        {
          "output_type": "stream",
          "name": "stdout",
          "text": [
            "LeNet(\n",
            "  (conv1): Conv2d(1, 6, kernel_size=(3, 3), stride=(1, 1))\n",
            "  (conv2): Conv2d(6, 16, kernel_size=(3, 3), stride=(1, 1))\n",
            "  (fc1): Linear(in_features=576, out_features=120, bias=True)\n",
            "  (fc2): Linear(in_features=120, out_features=84, bias=True)\n",
            "  (fc3): Linear(in_features=84, out_features=10, bias=True)\n",
            ")\n"
          ]
        }
      ]
    },
    {
      "cell_type": "markdown",
      "source": [
        "Above thing initiate the LeNet class. <br>\n",
        "As printing net, subclass of torch.nn.Module report the layers it has created and their shapes and parameters. <br>\n",
        "If wnat to get the gist of its processing, this can provide a handy overvieuw of model."
      ],
      "metadata": {
        "id": "GksCB8qwFslW"
      }
    },
    {
      "cell_type": "code",
      "source": [
        "input = torch.rand(1,1,32,32) # stand-in for a 32x32 black and white image\n",
        "print('<input information> \\n - input shape')\n",
        "print(input.shape,'\\n')"
      ],
      "metadata": {
        "colab": {
          "base_uri": "https://localhost:8080/"
        },
        "id": "a5rJXvFRGvHE",
        "outputId": "cd93cdcc-452f-40e9-e9c9-fb7e47294cc2"
      },
      "execution_count": null,
      "outputs": [
        {
          "output_type": "stream",
          "name": "stdout",
          "text": [
            "<input information> \n",
            " - input shape\n",
            "torch.Size([1, 1, 32, 32]) \n",
            "\n"
          ]
        }
      ]
    },
    {
      "cell_type": "markdown",
      "source": [
        "Create a dummy input representing 32 x 32 image with 1 color channel. <br>\n",
        "This can load an image tile and converting it to a tensor of this shape.<br>\n",
        "<br>\n",
        "At our tensor, extra demension is observed. This extra dimension is called as 'the Batch demension'.<br>\n",
        "Batch size: the number of training examples utilized in one iteration.<br>\n",
        "<br>\n",
        "PyTorch model assume they are working on batches of data.<br>\n",
        "For example, <br>\n",
        "If input.shape reprot [16, 1, 32, 32], a batch of 16 of given image tiles.<br>\n",
        "<br>\n",
        "In our case, becasue only using one image, we create a batch of 1 with shape (1, 1, 32, 32)."
      ],
      "metadata": {
        "id": "IgntxyPWIAi3"
      }
    },
    {
      "cell_type": "code",
      "source": [
        "output = net(input) # we do not call directly forward() function\n",
        "print('<ouput information>\\n - ouput')\n",
        "print(output,'\\n - ouput sahpe')\n",
        "print(output.shape)"
      ],
      "metadata": {
        "colab": {
          "base_uri": "https://localhost:8080/"
        },
        "id": "8Gxf1bSAIA3c",
        "outputId": "d68512aa-a2e6-4802-af20-be0bca167535"
      },
      "execution_count": null,
      "outputs": [
        {
          "output_type": "stream",
          "name": "stdout",
          "text": [
            "<ouput information>\n",
            " - ouput\n",
            "tensor([[-0.0926,  0.0878,  0.0033, -0.0239,  0.0661, -0.0982, -0.0824, -0.0701,\n",
            "         -0.0400, -0.0096]], grad_fn=<AddmmBackward0>) \n",
            " - ouput sahpe\n",
            "torch.Size([1, 10])\n"
          ]
        }
      ]
    },
    {
      "cell_type": "markdown",
      "source": [
        "By using net(input) function, we do model inference.\\\n",
        "model inference: The process of using a trained model to infer a result from live data.<br>\n",
        "\n",
        "The output of this call represents the model's confidnece that the input represents a particular digit. Since this instance of the mdoels hasn't learned anything yet, we shouldn't expect to see any signal in the output."
      ],
      "metadata": {
        "id": "sGB8UMFKNBYe"
      }
    },
    {
      "cell_type": "markdown",
      "source": [
        "**2. Datasets and dataloaders**"
      ],
      "metadata": {
        "id": "wnRDzrWNOdYI"
      }
    },
    {
      "cell_type": "code",
      "source": [
        "import torch\n",
        "import torchvision\n",
        "import torchvision.transforms as transforms"
      ],
      "metadata": {
        "id": "4p4intOTOhmr"
      },
      "execution_count": null,
      "outputs": []
    },
    {
      "cell_type": "code",
      "source": [
        "transform = transforms.Compose(\n",
        "    (transforms.ToTensor(),\n",
        "     transforms.Normalize((0.5,0.5,0.5),(0.5,0.5,0.5))))"
      ],
      "metadata": {
        "id": "o12NiougPbrw"
      },
      "execution_count": null,
      "outputs": []
    },
    {
      "cell_type": "markdown",
      "source": [
        "* transforms.ToTensor(): Convert images loaded by Pillow into PyTorch tensors. <br>\n",
        "Pillow image: PIL is the Python Imaging Library which provides the python interpreter with image editing capabilities. The Image module provides a class with the same name which is used to represent a PIL image.\n",
        "* transforms.Normalize(): manupulate the values in our tensors so that their average is 0 and their standard deviation is 0.5.<br>\n",
        "Most activation functions have their strongest gradients around x = 0, so centering our data there can speed learning."
      ],
      "metadata": {
        "id": "lPl5ncR3QDDH"
      }
    },
    {
      "cell_type": "markdown",
      "source": [
        "Then, create an instance of the CIFAR10 dataset. This is a set of 32x32 color images tiles representing 10 classes of objuects: 6 of animals (bird, cat, deer, dog, frog, horse) and 4 of vechicles (airplane, automobile, ship, truck):"
      ],
      "metadata": {
        "id": "djb2i4t0SNzN"
      }
    },
    {
      "cell_type": "code",
      "source": [
        "trainset = torchvision.datasets.CIFAR10(root='./data', train=True, download=True, transform=transform)"
      ],
      "metadata": {
        "colab": {
          "base_uri": "https://localhost:8080/",
          "height": 251,
          "referenced_widgets": [
            "aa6c6f48a8814b91995f6693241dfde9",
            "dc93d1f30b0643889bd7784f70dccfff",
            "b6d4c0fa8f0443d29f03b31054c8583c",
            "231dd977e4f847f1bedf98ee816dbdb6",
            "c2c2394aa8034ed19e8179328168694f",
            "eed39f7fb2cb44b7ba75e071e7b52e88",
            "d84d41a1e8764ee580117c8cfc62c8d2",
            "2cf1fcb883dc44eda74c215b27f95451",
            "ec8a2d93df0b42e496ce0b0d91858649",
            "ee6f163a3efe4cd29906087c1d0c8853",
            "55a08266982845c49df134a231862bc5"
          ]
        },
        "id": "nfVGWcSWQCs7",
        "outputId": "b6ae2c54-216e-4844-855d-726bca00599b"
      },
      "execution_count": null,
      "outputs": [
        {
          "output_type": "stream",
          "name": "stdout",
          "text": [
            "Downloading https://www.cs.toronto.edu/~kriz/cifar-10-python.tar.gz to ./data/cifar-10-python.tar.gz\n"
          ]
        },
        {
          "output_type": "display_data",
          "data": {
            "text/plain": [
              "  0%|          | 0/170498071 [00:00<?, ?it/s]"
            ],
            "application/vnd.jupyter.widget-view+json": {
              "version_major": 2,
              "version_minor": 0,
              "model_id": "aa6c6f48a8814b91995f6693241dfde9"
            }
          },
          "metadata": {}
        },
        {
          "output_type": "stream",
          "name": "stdout",
          "text": [
            "Extracting ./data/cifar-10-python.tar.gz to ./data\n",
            "Dataset CIFAR10\n",
            "    Number of datapoints: 50000\n",
            "    Root location: ./data\n",
            "    Split: Train\n",
            "    StandardTransform\n",
            "Transform: Compose(\n",
            "               ToTensor()\n",
            "               Normalize(mean=(0.5, 0.5, 0.5), std=(0.5, 0.5, 0.5))\n",
            "           )\n"
          ]
        }
      ]
    },
    {
      "cell_type": "code",
      "source": [
        "print('infromation')\n",
        "print(trainset)"
      ],
      "metadata": {
        "colab": {
          "base_uri": "https://localhost:8080/"
        },
        "id": "2lUFwNsA6Ck3",
        "outputId": "ec9991f2-ed34-4ae0-ed30-2f16d743be08"
      },
      "execution_count": null,
      "outputs": [
        {
          "output_type": "stream",
          "name": "stdout",
          "text": [
            "infromation\n",
            "Dataset CIFAR10\n",
            "    Number of datapoints: 50000\n",
            "    Root location: ./data\n",
            "    Split: Train\n",
            "    StandardTransform\n",
            "Transform: Compose(\n",
            "               ToTensor()\n",
            "               Normalize(mean=(0.5, 0.5, 0.5), std=(0.5, 0.5, 0.5))\n",
            "           )\n"
          ]
        }
      ]
    },
    {
      "cell_type": "markdown",
      "source": [
        "Above code is example for creating a dataset object in PyTorch.<br>\n",
        "Downloadable datasets are subclasses of torch.utils.data.Dataset.<br>\n",
        "Dataset classes in PyTorch include the downloadabable datasets in TorchVision, Torchtext, and TorchAudio."
      ],
      "metadata": {
        "id": "lYofl3iDWLYB"
      }
    },
    {
      "cell_type": "markdown",
      "source": [
        "When we instantiate our dataset, we nned to tell it a few tings:<br>\n",
        "* The filesystem path to wehre we want the data to go.\n",
        "* Whether or not we are using this set for training: most datasets will be split into training and test substes.\n",
        "* Whether we would like to download the dataset if we haven't already."
      ],
      "metadata": {
        "id": "YH55kr5aVBlm"
      }
    },
    {
      "cell_type": "markdown",
      "source": [
        "Once dataset is given, give it to the 'DataLoader':"
      ],
      "metadata": {
        "id": "SN4vgq41XFlD"
      }
    },
    {
      "cell_type": "code",
      "source": [
        "trainloader = torch.utils.data.DataLoader(trainset, batch_size=4,shuffle=True,num_workers=2)"
      ],
      "metadata": {
        "id": "UrxbcBjhXTRo"
      },
      "execution_count": null,
      "outputs": []
    },
    {
      "cell_type": "markdown",
      "source": [
        "* Dataseta subclasses: it wraps access to the data and is specialized to the type of data it's serving\n",
        "* Dataloader: knows nothing about the data, but organize the input tensors served by the Dataset into batches with the parameter that is determined by you.\n",
        "<br><br>\n",
        "In our case,\n",
        "- batch_size = 4: give us batches of 4 images from trainset.\n",
        "- shuffle = True: randomizing our order.\n",
        "- num_wrkers = 2: spin up two workers to load data from disk.<br>\n",
        "num_workers denotes the number of processes that generate batches in parallel."
      ],
      "metadata": {
        "id": "HhPZ3Gl3Xhlb"
      }
    },
    {
      "cell_type": "code",
      "source": [
        "import matplotlib.pyplot as plt\n",
        "import numpy as np\n",
        "\n",
        "classes = (\n",
        "    'plane','car','bird','cat','deer','dog','frog','horse','ship','truck'\n",
        ")\n",
        "\n",
        "def imshow(img):\n",
        "  img = img / 2 + 0.5 # unnormalize\n",
        "  npimg = img.numpy()\n",
        "  plt.imshow(np.transpose(npimg, (1,2,0)))\n",
        "\n",
        "# get some random training images\n",
        "dataiter = iter(trainloader)\n",
        "images, lables = dataiter.next()\n",
        "\n",
        "# show images\n",
        "imshow(torchvision.utils.make_grid(images))\n",
        "#print labels\n",
        "print(' '.join(classes[lables[j]] for j in range(4)))"
      ],
      "metadata": {
        "colab": {
          "base_uri": "https://localhost:8080/",
          "height": 175
        },
        "id": "yBMa8HMoYMIX",
        "outputId": "c5780f85-674d-4852-99b9-b248bde5825c"
      },
      "execution_count": null,
      "outputs": [
        {
          "output_type": "stream",
          "name": "stdout",
          "text": [
            "car frog car ship\n"
          ]
        },
        {
          "output_type": "display_data",
          "data": {
            "text/plain": [
              "<Figure size 432x288 with 1 Axes>"
            ],
            "image/png": "[encoded data removed]"
          },
          "metadata": {
            "needs_background": "light"
          }
        }
      ]
    },
    {
      "cell_type": "markdown",
      "source": [
        "Above code do to visulalize the baches our DataLoader serves"
      ],
      "metadata": {
        "id": "tTttjoG1bSwc"
      }
    },
    {
      "cell_type": "markdown",
      "source": [
        "**3. Training your PyTorch model**<br>\n",
        "3.1. Training and test"
      ],
      "metadata": {
        "id": "oMzLlVnKZfcE"
      }
    },
    {
      "cell_type": "code",
      "source": [
        "import torch\n",
        "import torch.nn as nn\n",
        "import torch.nn.functional as F\n",
        "import torch.optim as optim\n",
        "\n",
        "import torchvision\n",
        "import torchvision.transforms as transforms\n",
        "\n",
        "import matplotlib\n",
        "import matplotlib.pyplot as plt\n",
        "import numpy as np"
      ],
      "metadata": {
        "id": "mOOQaoaMbf0y"
      },
      "execution_count": null,
      "outputs": []
    },
    {
      "cell_type": "markdown",
      "source": [
        "Process to train PyTorch model\n",
        "\n",
        "First, Transform"
      ],
      "metadata": {
        "id": "mFsa3c0wexNG"
      }
    },
    {
      "cell_type": "code",
      "source": [
        "transform = transforms.Compose(\n",
        "    (transforms.ToTensor(),\n",
        "     transforms.Normalize((0.5,0.5,0.5),(0.5,0.5,0.5)))\n",
        ")\n"
      ],
      "metadata": {
        "id": "gaYdDeWCdjy7"
      },
      "execution_count": null,
      "outputs": []
    },
    {
      "cell_type": "markdown",
      "source": [
        "Second, Training"
      ],
      "metadata": {
        "id": "oBbAuCw-e8z0"
      }
    },
    {
      "cell_type": "code",
      "source": [
        "trainset = torchvision.datasets.CIFAR10(root='./data', train=True,download=True, transform=transform)\n",
        "trainloader = torch.utils.data.DataLoader(trainset, batch_size=4,shuffle=True,num_workers=2)"
      ],
      "metadata": {
        "colab": {
          "base_uri": "https://localhost:8080/",
          "height": 102,
          "referenced_widgets": [
            "310c2cb23ade43a19d6866264f41776b",
            "ade961c3f18f41f8acab7eb61c6e6c3d",
            "914a45e707af43eb8e961f0d97422e78",
            "ab8b7ed61ec7444b9699dbccfe7b2c18",
            "241b29c78a5249a890a42cf692e2df80",
            "7ed65205b418416db6f1981867872347",
            "6d3f7cf75bd248f99c210396d9a9c2ca",
            "a8da09cf73e848ef873890c92b18edba",
            "fa6cfcd618f34398925a7783a6cda44b",
            "c71130302ac44c639179be3e004173ea",
            "c881cf1033cc41e7ab141c505fce6d67"
          ]
        },
        "id": "aSMlVjFFe_ep",
        "outputId": "6a5ad87e-f9a9-4f86-8ed1-a78129ffc0c7"
      },
      "execution_count": null,
      "outputs": [
        {
          "output_type": "stream",
          "name": "stdout",
          "text": [
            "Downloading https://www.cs.toronto.edu/~kriz/cifar-10-python.tar.gz to ./data/cifar-10-python.tar.gz\n"
          ]
        },
        {
          "output_type": "display_data",
          "data": {
            "text/plain": [
              "  0%|          | 0/170498071 [00:00<?, ?it/s]"
            ],
            "application/vnd.jupyter.widget-view+json": {
              "version_major": 2,
              "version_minor": 0,
              "model_id": "310c2cb23ade43a19d6866264f41776b"
            }
          },
          "metadata": {}
        },
        {
          "output_type": "stream",
          "name": "stdout",
          "text": [
            "Extracting ./data/cifar-10-python.tar.gz to ./data\n"
          ]
        }
      ]
    },
    {
      "cell_type": "markdown",
      "source": [
        "Third, Test"
      ],
      "metadata": {
        "id": "yuH1ow_4fDuS"
      }
    },
    {
      "cell_type": "code",
      "source": [
        "testset = torchvision.datasets.CIFAR10(root='./data',train=False,download=True, transform=transform)\n",
        "testloader = torch.utils.data.DataLoader(testset, batch_size=4,shuffle=False,num_workers=2)\n",
        "\n",
        "classes = (\n",
        "    'plane','car','bird','cat','deer','dog','frog','horse','ship','truck'\n",
        ")"
      ],
      "metadata": {
        "colab": {
          "base_uri": "https://localhost:8080/"
        },
        "id": "9IY_KSnvfFVZ",
        "outputId": "4e53257e-9f16-4477-e842-8d7fe02e6ac2"
      },
      "execution_count": null,
      "outputs": [
        {
          "output_type": "stream",
          "name": "stdout",
          "text": [
            "Files already downloaded and verified\n"
          ]
        }
      ]
    },
    {
      "cell_type": "markdown",
      "source": [
        "Fourth, Checking the output from DataLoader"
      ],
      "metadata": {
        "id": "4Ym5XnNCfe-2"
      }
    },
    {
      "cell_type": "code",
      "source": [
        "import matplotlib.pyplot as plt\n",
        "import numpy as np\n",
        "# make function to visualize an image\n",
        "\n",
        "def imgshow(img):\n",
        "  img = img/ 2 + 0.5\n",
        "  npimg = img.numpy()\n",
        "  plt.imshow(np.transpose(npimg,(1,2,0)))\n",
        "\n",
        "dataiter = iter(trainloader)\n",
        "images, lables = dataiter.next()\n",
        "\n",
        "#show images\n",
        "imgshow(torchvision.utils.make_grid(images))\n",
        "#print lables\n",
        "print(' '.join(classes[lables[j]] for j in range(4)))"
      ],
      "metadata": {
        "colab": {
          "base_uri": "https://localhost:8080/",
          "height": 175
        },
        "id": "vqkJdK7yfkae",
        "outputId": "9da10360-58d8-4ea0-c36f-3bdd070a48dc"
      },
      "execution_count": null,
      "outputs": [
        {
          "output_type": "stream",
          "name": "stdout",
          "text": [
            "plane frog ship ship\n"
          ]
        },
        {
          "output_type": "display_data",
          "data": {
            "text/plain": [
              "<Figure size 432x288 with 1 Axes>"
            ],
            "image/png": "[encoded data removed]"
          },
          "metadata": {
            "needs_background": "light"
          }
        }
      ]
    },
    {
      "cell_type": "markdown",
      "source": [
        "3.2. Loss function and an optimizer"
      ],
      "metadata": {
        "id": "AzKRje5lgwSI"
      }
    },
    {
      "cell_type": "code",
      "source": [
        "class Net(nn.Module):\n",
        "  def __init__(self):\n",
        "    super(Net, self).__init__()\n",
        "    self.conv1 = nn.Conv2d(3, 6, 5)\n",
        "    self.pool = nn.MaxPool2d(2, 2)\n",
        "    self.conv2 = nn.Conv2d(6, 16, 5)\n",
        "    self.fc1 = nn.Linear(16 * 5 * 5, 120)\n",
        "    self.fc2 = nn.Linear(120, 84)\n",
        "    self.fc3 = nn.Linear(84, 10)\n",
        "\n",
        "  def forward(self, x):\n",
        "    x = self.pool(F.relu(self.conv1(x)))\n",
        "    x = self.pool(F.relu(self.conv2(x)))\n",
        "    x = x.view(-1, 16 * 5 * 5)\n",
        "    x = F.relu(self.fc1(x))\n",
        "    x = F.relu(self.fc2(x))\n",
        "    x = self.fc3(x)\n",
        "    return x\n",
        "\n",
        "net = Net()"
      ],
      "metadata": {
        "id": "MSYGxFdFbp8i"
      },
      "execution_count": null,
      "outputs": []
    },
    {
      "cell_type": "code",
      "source": [
        "criterion = nn.CrossEntropyLoss()\n",
        "optimizer = optim.SGD(net.parameters(), lr=0.001, momentum=0.9)"
      ],
      "metadata": {
        "id": "60kzzY3VhJ2R"
      },
      "execution_count": null,
      "outputs": []
    },
    {
      "cell_type": "markdown",
      "source": [
        ".CrossEntropyLoss(): loss function for calssification<br>\n",
        "lr: learning rate <br>\n",
        "net.parameters(): collection of all the learning weights in the models, which is what the optimizer adjusts <br>"
      ],
      "metadata": {
        "id": "KHbYloLUhgaK"
      }
    },
    {
      "cell_type": "code",
      "source": [
        "for epoch in range(2):\n",
        "\n",
        "  running_loss = 0.0\n",
        "  for i, data in enumerate(trainloader, 0):\n",
        "    inputs, lables = data # get the inputs\n",
        "\n",
        "    optimizer.zero_grad() # zero the parameter gradients\n",
        "\n",
        "    # forward + backeward + optimize\n",
        "    outputs = net(inputs)\n",
        "    loss = criterion(outputs, lables)\n",
        "    loss.backward()\n",
        "    optimizer.step()\n",
        "\n",
        "    running_loss += loss.item()\n",
        "    if i % 2000 == 1999:\n",
        "      print(epoch + 1, i + 1, running_loss / 2000)\n",
        "      running_loss = 0.0"
      ],
      "metadata": {
        "colab": {
          "base_uri": "https://localhost:8080/"
        },
        "id": "hp8Y6hfLZyzh",
        "outputId": "13029449-c5ae-447f-c9c5-c5eab0a368a1"
      },
      "execution_count": null,
      "outputs": [
        {
          "output_type": "stream",
          "name": "stdout",
          "text": [
            "1 2000 2.3044261087179185\n",
            "1 4000 2.3056442334651948\n",
            "1 6000 2.303279993891716\n",
            "1 8000 2.305463033914566\n",
            "1 10000 2.3048073093891146\n",
            "1 12000 2.305268535017967\n",
            "2 2000 2.3052288016080857\n",
            "2 4000 2.3050195450782778\n",
            "2 6000 2.3040295029878615\n",
            "2 8000 2.3043185139894486\n",
            "2 10000 2.3037598301172255\n",
            "2 12000 2.3052246164083483\n"
          ]
        }
      ]
    },
    {
      "cell_type": "code",
      "source": [
        "correct = 0\n",
        "total = 0\n",
        "\n",
        "with torch.no_grad():\n",
        "  for data in testloader:\n",
        "    images, labels = data\n",
        "    outputs = net(images)\n",
        "    _, predicted = torch.max(outputs.data, 1)\n",
        "    total += labels.size(0)\n",
        "    correct += (predicted == labels).sum().item()\n",
        "\n",
        "print(100 * correct / total)"
      ],
      "metadata": {
        "colab": {
          "base_uri": "https://localhost:8080/"
        },
        "id": "RaeLecGpfO2w",
        "outputId": "d86bdaa6-7547-4b23-9e89-581b61f70bf2"
      },
      "execution_count": null,
      "outputs": [
        {
          "output_type": "stream",
          "name": "stdout",
          "text": [
            "10.01\n"
          ]
        }
      ]
    }
  ]
}
